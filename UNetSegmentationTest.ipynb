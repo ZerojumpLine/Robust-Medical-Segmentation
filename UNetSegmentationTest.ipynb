{
 "cells": [
  {
   "cell_type": "code",
   "execution_count": 231,
   "metadata": {},
   "outputs": [],
   "source": [
    "import os\n",
    "from scipy import signal\n",
    "import nibabel as nib\n",
    "import numpy as np\n",
    "import argparse\n",
    "from Unet import Generic_UNet, InitWeights_He\n",
    "import math\n",
    "from tqdm import tqdm\n",
    "import torch\n",
    "import torch.nn as nn\n",
    "from common_test_Unet import testatlas as test\n",
    "from scipy.ndimage.filters import gaussian_filter\n",
    "from collections import OrderedDict\n",
    "from numpy.linalg import inv\n",
    "from utilities import SoftDiceLoss, resize_segmentation, _concat, _concatmodel, one_hot2dist, ComputMetric\n",
    "from sampling_multiprocess import get_augment_par\n",
    "from common_test_Unet import pad_nd_image, _compute_steps_for_sliding_window, getallbatch\n",
    "import torch.nn.functional as F"
   ]
  },
  {
   "cell_type": "code",
   "execution_count": 232,
   "metadata": {},
   "outputs": [],
   "source": [
    "prostateckpt = '/vol/biomedic3/zl9518/ModelEvaluation/Segment/Prostateckpt/checkpoint.pth.tar'\n",
    "atlasckpt = '/vol/biomedic3/zl9518/ModelEvaluation/Segment/ATLASckpt/checkpoint.pth.tar'"
   ]
  },
  {
   "cell_type": "code",
   "execution_count": 233,
   "metadata": {},
   "outputs": [],
   "source": [
    "prostatevalpath = '/vol/biomedic3/zl9518/Prostatedata/datafiletestB/'\n",
    "prostatetestpath1 = '/vol/biomedic3/zl9518/Prostatedata/datafileA/'\n",
    "prostatetestpath2 = '/vol/biomedic3/zl9518/Prostatedata/datafileC/'\n",
    "prostatetestpath3 = '/vol/biomedic3/zl9518/Prostatedata/datafileD/'\n",
    "prostatetestpath4 = '/vol/biomedic3/zl9518/Prostatedata/datafileE/'\n",
    "prostatetestpath5 = '/vol/biomedic3/zl9518/Prostatedata/datafileF/'\n",
    "prostatetestpaths = [prostatetestpath1, prostatetestpath2, prostatetestpath3, prostatetestpath4, prostatetestpath5]\n",
    "atlasvalpath = '/vol/biomedic2/zl9518/ATLAS/datafilenews/validation/'"
   ]
  },
  {
   "cell_type": "code",
   "execution_count": 234,
   "metadata": {},
   "outputs": [],
   "source": [
    "savename = 'prostateval'\n",
    "savedckpt = prostateckpt\n",
    "patch_size = [64, 64, 32]\n",
    "testlist = [0]\n",
    "testprob = [1]\n",
    "NumsInputChannel = 1\n",
    "NumsClass = 2\n",
    "pathname = 'prostate'\n",
    "DatafileValFoldtr = None\n",
    "DatafileValFoldts = prostatevalpath"
   ]
  },
  {
   "cell_type": "code",
   "execution_count": 235,
   "metadata": {},
   "outputs": [],
   "source": [
    "args = {'resume': savedckpt, 'name': savename, 'saveresults': True, 'patch_size': patch_size, 'downsampling': 4,\n",
    "       'ttalist': testlist, 'ttalistprob': testprob, 'features': 10, 'deepsupervision': True, 'gpu': 0}"
   ]
  },
  {
   "cell_type": "code",
   "execution_count": 236,
   "metadata": {},
   "outputs": [
    {
     "name": "stdout",
     "output_type": "stream",
     "text": [
      "=> loading checkpoint '/vol/biomedic3/zl9518/ModelEvaluation/Segment/Prostateckpt/checkpoint.pth.tar'\n",
      "=> loaded checkpoint '/vol/biomedic3/zl9518/ModelEvaluation/Segment/Prostateckpt/checkpoint.pth.tar' (epoch 1000)\n"
     ]
    }
   ],
   "source": [
    "torch.cuda.set_device(args['gpu'])\n",
    "# create model\n",
    "conv_op = nn.Conv3d\n",
    "dropout_op = nn.Dropout3d\n",
    "norm_op = nn.InstanceNorm3d\n",
    "conv_per_stage = 2\n",
    "base_num_features = args['features']\n",
    "args['features'] = base_num_features\n",
    "\n",
    "norm_op_kwargs = {'eps': 1e-5, 'affine': True}\n",
    "dropout_op_kwargs = {'p': 0, 'inplace': True}\n",
    "net_nonlin = nn.LeakyReLU\n",
    "net_nonlin_kwargs = {'negative_slope': 1e-2, 'inplace': True}\n",
    "net_num_pool_op_kernel_sizes = []\n",
    "if args['patch_size'][1] != args['patch_size'][2]:\n",
    "    net_num_pool_op_kernel_sizes.append([2, 2, 1])\n",
    "    for kiter in range(0, args['downsampling'] - 1):  # (0,5)\n",
    "        net_num_pool_op_kernel_sizes.append([2, 2, 2])\n",
    "else:\n",
    "    for kiter in range(0, args['downsampling']):  # (0,5)\n",
    "        net_num_pool_op_kernel_sizes.append([2, 2, 2])\n",
    "net_conv_kernel_sizes = []\n",
    "for kiter in range(0, args['downsampling'] + 1):  # (0,6)\n",
    "    net_conv_kernel_sizes.append([3, 3, 3])\n",
    "\n",
    "model = Generic_UNet(NumsInputChannel, base_num_features, NumsClass,\n",
    "                     len(net_num_pool_op_kernel_sizes),\n",
    "                     conv_per_stage, 2, conv_op, norm_op, norm_op_kwargs, dropout_op,\n",
    "                     dropout_op_kwargs,\n",
    "                     net_nonlin, net_nonlin_kwargs, args['deepsupervision'], False, lambda x: x, InitWeights_He(1e-2),\n",
    "                     net_num_pool_op_kernel_sizes, net_conv_kernel_sizes, False, True, True)\n",
    "model = model.cuda()\n",
    "model.eval()\n",
    "\n",
    "if args['resume']:\n",
    "    if os.path.isfile(args['resume']):\n",
    "        print(\"=> loading checkpoint '{}'\".format(args['resume']))\n",
    "        checkpoint = torch.load(args['resume'], map_location='cuda:' + str(args['gpu']))\n",
    "        model.load_state_dict(checkpoint['state_dict'])\n",
    "        print(\"=> loaded checkpoint '{}' (epoch {})\".format(args['resume'], checkpoint['epoch']))\n",
    "    else:\n",
    "        print(\"=> no checkpoint found at '{}'\".format(args['resume']))"
   ]
  },
  {
   "cell_type": "code",
   "execution_count": 237,
   "metadata": {},
   "outputs": [],
   "source": [
    "def testmap(model, saveresults, name, pathname = None, ImgsegmentSize = [80, 160, 160], deepsupervision=False, \n",
    "    DatafileValFoldtr=None, DatafileValFoldts=None, tta=False, ttalist=[0], NumsClass = 2, ttalistprob=[1]):\n",
    "    \n",
    "    batch_size = 1\n",
    "    NumsInputChannel = 1\n",
    "\n",
    "    DatafiletsFold = DatafileValFoldts\n",
    "    DatafiletsImgc1 = DatafiletsFold + 'Imgpre-eval.txt'\n",
    "    DatafiletsLabel = DatafiletsFold + 'seg-eval.txt'\n",
    "    DatafiletsMask = DatafiletsFold + 'mask-eval.txt'\n",
    "\n",
    "    Imgfiletsc1 = open(DatafiletsImgc1)\n",
    "    Imgreadtsc1 = Imgfiletsc1.read().splitlines()\n",
    "    if os.path.isfile(DatafiletsMask):\n",
    "        Masktsfile = open(DatafiletsMask)\n",
    "        Masktsread = Masktsfile.read().splitlines()\n",
    "        Maskread = Masktsread\n",
    "    Labeltsfile = open(DatafiletsLabel)\n",
    "    Labeltsread = Labeltsfile.read().splitlines()\n",
    "\n",
    "    Imgreadc1 = Imgreadtsc1\n",
    "    Labelread = Labeltsread\n",
    "    \n",
    "    DSClist = []\n",
    "    \n",
    "    for numr in range(len(Imgreadc1)):\n",
    "\n",
    "        Imgnamec1 = Imgreadc1[numr]\n",
    "        Imgloadc1 = nib.load(Imgnamec1)\n",
    "        Imgc1 = Imgloadc1.get_fdata()\n",
    "        \n",
    "        if os.path.isfile(DatafiletsMask):\n",
    "            Maskname = Maskread[numr]\n",
    "            Maskload = nib.load(Maskname)\n",
    "            roi_mask = Maskload.get_fdata()\n",
    "        Labelname = Labelread[numr]\n",
    "        Labelload = nib.load(Labelname)\n",
    "        gtlabel = Labelload.get_fdata()\n",
    "        \n",
    "        Imgc1 = np.float32(Imgc1)\n",
    "\n",
    "        knamelist = Imgnamec1.split(\"/\")\n",
    "        kname = knamelist[-1][0:6]\n",
    "\n",
    "        channels = Imgc1[None, ...]\n",
    "\n",
    "        from common_test_Unet import tta_rolling\n",
    "        hp_results = tta_rolling(model, channels, batch_size, ImgsegmentSize, NumsInputChannel, NumsClass, tta, ttalist, ttalistprob, deepsupervision)\n",
    "\n",
    "        ## use the mask to constratin the results\n",
    "        if os.path.isfile(DatafiletsMask):\n",
    "            PredSegmentationWithinRoi = hp_results * roi_mask\n",
    "        else:\n",
    "            PredSegmentationWithinRoi = hp_results\n",
    "        # PredSegmentationWithinRoi = predSegmentation\n",
    "\n",
    "        predlabel = np.argmax(PredSegmentationWithinRoi, axis=0)\n",
    "        \n",
    "        labelwt = gtlabel == 1\n",
    "        predwt = predlabel == 1\n",
    "\n",
    "        DSCwt, SENSwt, PRECwt = ComputMetric(labelwt, predwt)\n",
    "\n",
    "        # print(DSCwt)\n",
    "        DSClist.append([DSCwt])\n",
    "        \n",
    "        for kcls in range(PredSegmentationWithinRoi.shape[0]):\n",
    "\n",
    "            imgToSave = PredSegmentationWithinRoi[kcls, :, :, :]\n",
    "\n",
    "            if saveresults:\n",
    "                npDtype = np.dtype(np.float32)\n",
    "                hdr_origin = Imgloadc1.header\n",
    "                affine_origin = Imgloadc1.affine\n",
    "                \n",
    "                newLabelImg = nib.Nifti1Image(imgToSave, affine_origin)\n",
    "                newLabelImg.set_data_dtype(npDtype)\n",
    "\n",
    "                dimsImgToSave = len(imgToSave.shape)\n",
    "                newZooms = list(hdr_origin.get_zooms()[:dimsImgToSave])\n",
    "                if len(newZooms) < dimsImgToSave:  # Eg if original image was 3D, but I need to save a multi-channel image.\n",
    "                    newZooms = newZooms + [1.0] * (dimsImgToSave - len(newZooms))\n",
    "                newLabelImg.header.set_zooms(newZooms)\n",
    "\n",
    "                directory = \"../output/%s/%s/\" % (pathname, name)\n",
    "                if not os.path.exists(directory):\n",
    "                    os.makedirs(directory)\n",
    "                savename = directory + 'pred_' + kname + 'cls' + str(kcls) + '_prob.nii.gz'\n",
    "                nib.save(newLabelImg, savename)\n",
    "    \n",
    "    DSCmean = np.array(DSClist)\n",
    "    DSCmean = DSCmean.mean(axis=0)\n",
    "    print(DSCmean)"
   ]
  },
  {
   "cell_type": "code",
   "execution_count": 174,
   "metadata": {},
   "outputs": [
    {
     "name": "stdout",
     "output_type": "stream",
     "text": [
      "case 0 done\n",
      "case 1 done\n",
      "case 2 done\n",
      "case 3 done\n",
      "case 4 done\n",
      "case 5 done\n",
      "case 6 done\n",
      "case 7 done\n",
      "case 8 done\n",
      "case 9 done\n",
      "[0.89257949]\n"
     ]
    }
   ],
   "source": [
    "testmap(model, args['saveresults'], args['name'] + '/results/', pathname=pathname,\n",
    "                    ImgsegmentSize=args['patch_size'], deepsupervision=args['deepsupervision'],\n",
    "                    DatafileValFoldtr=DatafileValFoldtr, DatafileValFoldts=DatafileValFoldts, NumsClass=NumsClass,\n",
    "                    ttalist=args['ttalist'], ttalistprob=args['ttalistprob'])"
   ]
  },
  {
   "cell_type": "code",
   "execution_count": 184,
   "metadata": {},
   "outputs": [
    {
     "name": "stderr",
     "output_type": "stream",
     "text": [
      "  1%|▏                 | 1/83 [01:06<1:31:02, 66.61s/it]"
     ]
    },
    {
     "name": "stdout",
     "output_type": "stream",
     "text": [
      "[0.8457301]\n"
     ]
    },
    {
     "name": "stderr",
     "output_type": "stream",
     "text": [
      "\r\n",
      "  2%|▍                 | 2/83 [02:13<1:30:27, 67.00s/it]"
     ]
    },
    {
     "name": "stdout",
     "output_type": "stream",
     "text": [
      "[0.87085208]\n"
     ]
    },
    {
     "name": "stderr",
     "output_type": "stream",
     "text": [
      "\r\n",
      "  4%|▋                 | 3/83 [03:27<1:33:26, 70.08s/it]"
     ]
    },
    {
     "name": "stdout",
     "output_type": "stream",
     "text": [
      "[0.82852159]\n"
     ]
    },
    {
     "name": "stderr",
     "output_type": "stream",
     "text": [
      "\r\n",
      "  5%|▊                 | 4/83 [04:46<1:36:54, 73.60s/it]"
     ]
    },
    {
     "name": "stdout",
     "output_type": "stream",
     "text": [
      "[0.79070375]\n"
     ]
    },
    {
     "name": "stderr",
     "output_type": "stream",
     "text": [
      "\r\n",
      "  6%|█                 | 5/83 [06:15<1:42:46, 79.06s/it]"
     ]
    },
    {
     "name": "stdout",
     "output_type": "stream",
     "text": [
      "[0.75868129]\n"
     ]
    },
    {
     "name": "stderr",
     "output_type": "stream",
     "text": [
      "\r\n",
      "  7%|█▎                | 6/83 [07:53<1:49:34, 85.38s/it]"
     ]
    },
    {
     "name": "stdout",
     "output_type": "stream",
     "text": [
      "[0.75574848]\n"
     ]
    },
    {
     "name": "stderr",
     "output_type": "stream",
     "text": [
      "\r\n",
      "  8%|█▌                | 7/83 [09:28<1:52:28, 88.80s/it]"
     ]
    },
    {
     "name": "stdout",
     "output_type": "stream",
     "text": [
      "[0.81723274]\n"
     ]
    },
    {
     "name": "stderr",
     "output_type": "stream",
     "text": [
      "\r\n",
      " 10%|█▋                | 8/83 [11:20<1:59:58, 95.98s/it]"
     ]
    },
    {
     "name": "stdout",
     "output_type": "stream",
     "text": [
      "[0.66046432]\n"
     ]
    },
    {
     "name": "stderr",
     "output_type": "stream",
     "text": [
      "\r\n",
      " 11%|█▊               | 9/83 [13:15<2:05:44, 101.95s/it]"
     ]
    },
    {
     "name": "stdout",
     "output_type": "stream",
     "text": [
      "[0.83916721]\n"
     ]
    },
    {
     "name": "stderr",
     "output_type": "stream",
     "text": [
      "\r\n",
      " 12%|█▉              | 10/83 [15:30<2:16:34, 112.25s/it]"
     ]
    },
    {
     "name": "stdout",
     "output_type": "stream",
     "text": [
      "[0.62964591]\n"
     ]
    },
    {
     "name": "stderr",
     "output_type": "stream",
     "text": [
      "\r\n",
      " 13%|██              | 11/83 [16:44<2:00:45, 100.63s/it]"
     ]
    },
    {
     "name": "stdout",
     "output_type": "stream",
     "text": [
      "[0.854135]\n"
     ]
    },
    {
     "name": "stderr",
     "output_type": "stream",
     "text": [
      "\r\n",
      " 14%|██▍              | 12/83 [17:58<1:49:27, 92.49s/it]"
     ]
    },
    {
     "name": "stdout",
     "output_type": "stream",
     "text": [
      "[0.87368835]\n"
     ]
    },
    {
     "name": "stderr",
     "output_type": "stream",
     "text": [
      "\r\n",
      " 16%|██▋              | 13/83 [19:24<1:45:22, 90.32s/it]"
     ]
    },
    {
     "name": "stdout",
     "output_type": "stream",
     "text": [
      "[0.85383922]\n"
     ]
    },
    {
     "name": "stderr",
     "output_type": "stream",
     "text": [
      "\r\n",
      " 17%|██▊              | 14/83 [20:49<1:42:08, 88.82s/it]"
     ]
    },
    {
     "name": "stdout",
     "output_type": "stream",
     "text": [
      "[0.8436555]\n"
     ]
    },
    {
     "name": "stderr",
     "output_type": "stream",
     "text": [
      "\r\n",
      " 18%|███              | 15/83 [22:29<1:44:31, 92.22s/it]"
     ]
    },
    {
     "name": "stdout",
     "output_type": "stream",
     "text": [
      "[0.84720683]\n"
     ]
    },
    {
     "name": "stderr",
     "output_type": "stream",
     "text": [
      "\r\n",
      " 19%|███▎             | 16/83 [24:08<1:45:07, 94.14s/it]"
     ]
    },
    {
     "name": "stdout",
     "output_type": "stream",
     "text": [
      "[0.84158264]\n"
     ]
    },
    {
     "name": "stderr",
     "output_type": "stream",
     "text": [
      "\r\n",
      " 20%|███▍             | 17/83 [25:19<1:36:01, 87.29s/it]"
     ]
    },
    {
     "name": "stdout",
     "output_type": "stream",
     "text": [
      "[0.87196989]\n"
     ]
    },
    {
     "name": "stderr",
     "output_type": "stream",
     "text": [
      "\r\n",
      " 22%|███▋             | 18/83 [26:30<1:29:12, 82.35s/it]"
     ]
    },
    {
     "name": "stdout",
     "output_type": "stream",
     "text": [
      "[0.86693375]\n"
     ]
    },
    {
     "name": "stderr",
     "output_type": "stream",
     "text": [
      "\r\n",
      " 23%|███▉             | 19/83 [27:55<1:28:44, 83.20s/it]"
     ]
    },
    {
     "name": "stdout",
     "output_type": "stream",
     "text": [
      "[0.8188884]\n"
     ]
    },
    {
     "name": "stderr",
     "output_type": "stream",
     "text": [
      "\r\n",
      " 24%|████             | 20/83 [29:20<1:27:59, 83.80s/it]"
     ]
    },
    {
     "name": "stdout",
     "output_type": "stream",
     "text": [
      "[0.82896164]\n"
     ]
    },
    {
     "name": "stderr",
     "output_type": "stream",
     "text": [
      "\r\n",
      " 25%|████▎            | 21/83 [31:01<1:31:50, 88.89s/it]"
     ]
    },
    {
     "name": "stdout",
     "output_type": "stream",
     "text": [
      "[0.75121138]\n"
     ]
    },
    {
     "name": "stderr",
     "output_type": "stream",
     "text": [
      "\r\n",
      " 27%|████▌            | 22/83 [32:41<1:33:49, 92.29s/it]"
     ]
    },
    {
     "name": "stdout",
     "output_type": "stream",
     "text": [
      "[0.7984512]\n"
     ]
    },
    {
     "name": "stderr",
     "output_type": "stream",
     "text": [
      "\r\n",
      " 28%|████▋            | 23/83 [33:48<1:24:46, 84.78s/it]"
     ]
    },
    {
     "name": "stdout",
     "output_type": "stream",
     "text": [
      "[0.82587571]\n"
     ]
    },
    {
     "name": "stderr",
     "output_type": "stream",
     "text": [
      "\r\n",
      " 29%|████▉            | 24/83 [34:55<1:18:00, 79.33s/it]"
     ]
    },
    {
     "name": "stdout",
     "output_type": "stream",
     "text": [
      "[0.78083674]\n"
     ]
    },
    {
     "name": "stderr",
     "output_type": "stream",
     "text": [
      "\r\n",
      " 30%|█████            | 25/83 [36:10<1:15:32, 78.15s/it]"
     ]
    },
    {
     "name": "stdout",
     "output_type": "stream",
     "text": [
      "[0.82163875]\n"
     ]
    },
    {
     "name": "stderr",
     "output_type": "stream",
     "text": [
      "\r\n",
      " 31%|█████▎           | 26/83 [37:26<1:13:28, 77.34s/it]"
     ]
    },
    {
     "name": "stdout",
     "output_type": "stream",
     "text": [
      "[0.7407959]\n"
     ]
    },
    {
     "name": "stderr",
     "output_type": "stream",
     "text": [
      "\r\n",
      " 33%|█████▌           | 27/83 [38:44<1:12:29, 77.67s/it]"
     ]
    },
    {
     "name": "stdout",
     "output_type": "stream",
     "text": [
      "[0.80824509]\n"
     ]
    },
    {
     "name": "stderr",
     "output_type": "stream",
     "text": [
      "\r\n",
      " 34%|█████▋           | 28/83 [40:03<1:11:30, 78.00s/it]"
     ]
    },
    {
     "name": "stdout",
     "output_type": "stream",
     "text": [
      "[0.74880124]\n"
     ]
    },
    {
     "name": "stderr",
     "output_type": "stream",
     "text": [
      "\r\n",
      " 35%|██████▋            | 29/83 [40:34<57:32, 63.94s/it]"
     ]
    },
    {
     "name": "stdout",
     "output_type": "stream",
     "text": [
      "[0.88139641]\n"
     ]
    },
    {
     "name": "stderr",
     "output_type": "stream",
     "text": [
      "\r\n",
      " 36%|██████▊            | 30/83 [41:06<47:59, 54.33s/it]"
     ]
    },
    {
     "name": "stdout",
     "output_type": "stream",
     "text": [
      "[0.84490416]\n"
     ]
    },
    {
     "name": "stderr",
     "output_type": "stream",
     "text": [
      "\r\n",
      " 37%|███████            | 31/83 [41:39<41:26, 47.82s/it]"
     ]
    },
    {
     "name": "stdout",
     "output_type": "stream",
     "text": [
      "[0.87231017]\n"
     ]
    },
    {
     "name": "stderr",
     "output_type": "stream",
     "text": [
      "\r\n",
      " 39%|███████▎           | 32/83 [42:09<36:02, 42.41s/it]"
     ]
    },
    {
     "name": "stdout",
     "output_type": "stream",
     "text": [
      "[0.74384372]\n"
     ]
    },
    {
     "name": "stderr",
     "output_type": "stream",
     "text": [
      "\r\n",
      " 40%|███████▌           | 33/83 [42:37<31:54, 38.28s/it]"
     ]
    },
    {
     "name": "stdout",
     "output_type": "stream",
     "text": [
      "[0.76900504]\n"
     ]
    },
    {
     "name": "stderr",
     "output_type": "stream",
     "text": [
      "\r\n",
      " 41%|███████▊           | 34/83 [43:09<29:45, 36.44s/it]"
     ]
    },
    {
     "name": "stdout",
     "output_type": "stream",
     "text": [
      "[0.80362372]\n"
     ]
    },
    {
     "name": "stderr",
     "output_type": "stream",
     "text": [
      "\r\n",
      " 42%|████████           | 35/83 [43:38<27:13, 34.03s/it]"
     ]
    },
    {
     "name": "stdout",
     "output_type": "stream",
     "text": [
      "[0.60541807]\n"
     ]
    },
    {
     "name": "stderr",
     "output_type": "stream",
     "text": [
      "\r\n",
      " 43%|████████▏          | 36/83 [44:06<25:19, 32.34s/it]"
     ]
    },
    {
     "name": "stdout",
     "output_type": "stream",
     "text": [
      "[0.59477526]\n"
     ]
    },
    {
     "name": "stderr",
     "output_type": "stream",
     "text": [
      "\r\n",
      " 45%|████████▍          | 37/83 [44:38<24:36, 32.10s/it]"
     ]
    },
    {
     "name": "stdout",
     "output_type": "stream",
     "text": [
      "[0.86552593]\n"
     ]
    },
    {
     "name": "stderr",
     "output_type": "stream",
     "text": [
      "\r\n",
      " 46%|████████▋          | 38/83 [45:10<24:02, 32.06s/it]"
     ]
    },
    {
     "name": "stdout",
     "output_type": "stream",
     "text": [
      "[0.81934936]\n"
     ]
    },
    {
     "name": "stderr",
     "output_type": "stream",
     "text": [
      "\r\n",
      " 47%|████████▉          | 39/83 [45:42<23:34, 32.14s/it]"
     ]
    },
    {
     "name": "stdout",
     "output_type": "stream",
     "text": [
      "[0.84710367]\n"
     ]
    },
    {
     "name": "stderr",
     "output_type": "stream",
     "text": [
      "\r\n",
      " 48%|█████████▏         | 40/83 [46:14<22:53, 31.94s/it]"
     ]
    },
    {
     "name": "stdout",
     "output_type": "stream",
     "text": [
      "[0.81955592]\n"
     ]
    },
    {
     "name": "stderr",
     "output_type": "stream",
     "text": [
      "\r\n",
      " 49%|█████████▍         | 41/83 [46:45<22:21, 31.95s/it]"
     ]
    },
    {
     "name": "stdout",
     "output_type": "stream",
     "text": [
      "[0.89423322]\n"
     ]
    },
    {
     "name": "stderr",
     "output_type": "stream",
     "text": [
      "\r\n",
      " 51%|█████████▌         | 42/83 [47:17<21:47, 31.89s/it]"
     ]
    },
    {
     "name": "stdout",
     "output_type": "stream",
     "text": [
      "[0.88687781]\n"
     ]
    },
    {
     "name": "stderr",
     "output_type": "stream",
     "text": [
      "\r\n",
      " 52%|█████████▊         | 43/83 [47:50<21:22, 32.06s/it]"
     ]
    },
    {
     "name": "stdout",
     "output_type": "stream",
     "text": [
      "[0.8949294]\n"
     ]
    },
    {
     "name": "stderr",
     "output_type": "stream",
     "text": [
      "\r\n",
      " 53%|██████████         | 44/83 [48:21<20:46, 31.96s/it]"
     ]
    },
    {
     "name": "stdout",
     "output_type": "stream",
     "text": [
      "[0.86551048]\n"
     ]
    },
    {
     "name": "stderr",
     "output_type": "stream",
     "text": [
      "\r\n",
      " 54%|██████████▎        | 45/83 [48:54<20:19, 32.10s/it]"
     ]
    },
    {
     "name": "stdout",
     "output_type": "stream",
     "text": [
      "[0.89473903]\n"
     ]
    },
    {
     "name": "stderr",
     "output_type": "stream",
     "text": [
      "\r\n",
      " 55%|██████████▌        | 46/83 [49:26<19:44, 32.03s/it]"
     ]
    },
    {
     "name": "stdout",
     "output_type": "stream",
     "text": [
      "[0.85096411]\n"
     ]
    },
    {
     "name": "stderr",
     "output_type": "stream",
     "text": [
      "\r\n",
      " 57%|██████████▊        | 47/83 [49:58<19:14, 32.08s/it]"
     ]
    },
    {
     "name": "stdout",
     "output_type": "stream",
     "text": [
      "[0.89163761]\n"
     ]
    },
    {
     "name": "stderr",
     "output_type": "stream",
     "text": [
      "\r\n",
      " 58%|██████████▉        | 48/83 [50:30<18:45, 32.17s/it]"
     ]
    },
    {
     "name": "stdout",
     "output_type": "stream",
     "text": [
      "[0.89320683]\n"
     ]
    },
    {
     "name": "stderr",
     "output_type": "stream",
     "text": [
      "\r\n",
      " 59%|███████████▏       | 49/83 [51:02<18:13, 32.17s/it]"
     ]
    },
    {
     "name": "stdout",
     "output_type": "stream",
     "text": [
      "[0.88865732]\n"
     ]
    },
    {
     "name": "stderr",
     "output_type": "stream",
     "text": [
      "\r\n",
      " 60%|███████████▍       | 50/83 [51:35<17:48, 32.38s/it]"
     ]
    },
    {
     "name": "stdout",
     "output_type": "stream",
     "text": [
      "[0.89404301]\n"
     ]
    },
    {
     "name": "stderr",
     "output_type": "stream",
     "text": [
      "\r\n",
      " 61%|███████████▋       | 51/83 [52:09<17:26, 32.71s/it]"
     ]
    },
    {
     "name": "stdout",
     "output_type": "stream",
     "text": [
      "[0.88414099]\n"
     ]
    },
    {
     "name": "stderr",
     "output_type": "stream",
     "text": [
      "\r\n",
      " 63%|███████████▉       | 52/83 [52:41<16:45, 32.42s/it]"
     ]
    },
    {
     "name": "stdout",
     "output_type": "stream",
     "text": [
      "[0.89455853]\n"
     ]
    },
    {
     "name": "stderr",
     "output_type": "stream",
     "text": [
      "\r\n",
      " 64%|████████████▏      | 53/83 [53:12<16:03, 32.11s/it]"
     ]
    },
    {
     "name": "stdout",
     "output_type": "stream",
     "text": [
      "[0.89158723]\n"
     ]
    },
    {
     "name": "stderr",
     "output_type": "stream",
     "text": [
      "\r\n",
      " 65%|████████████▎      | 54/83 [53:44<15:31, 32.13s/it]"
     ]
    },
    {
     "name": "stdout",
     "output_type": "stream",
     "text": [
      "[0.89358273]\n"
     ]
    },
    {
     "name": "stderr",
     "output_type": "stream",
     "text": [
      "\r\n",
      " 66%|████████████▌      | 55/83 [54:16<14:56, 32.02s/it]"
     ]
    },
    {
     "name": "stdout",
     "output_type": "stream",
     "text": [
      "[0.8900613]\n"
     ]
    },
    {
     "name": "stderr",
     "output_type": "stream",
     "text": [
      "\r\n",
      " 67%|████████████▊      | 56/83 [54:49<14:32, 32.33s/it]"
     ]
    },
    {
     "name": "stdout",
     "output_type": "stream",
     "text": [
      "[0.89545353]\n"
     ]
    },
    {
     "name": "stderr",
     "output_type": "stream",
     "text": [
      "\r\n",
      " 69%|█████████████      | 57/83 [55:20<13:54, 32.11s/it]"
     ]
    },
    {
     "name": "stdout",
     "output_type": "stream",
     "text": [
      "[0.88928771]\n"
     ]
    },
    {
     "name": "stderr",
     "output_type": "stream",
     "text": [
      "\r\n",
      " 70%|█████████████▎     | 58/83 [55:54<13:34, 32.60s/it]"
     ]
    },
    {
     "name": "stdout",
     "output_type": "stream",
     "text": [
      "[0.89682157]\n"
     ]
    },
    {
     "name": "stderr",
     "output_type": "stream",
     "text": [
      "\r\n",
      " 71%|█████████████▌     | 59/83 [56:26<12:54, 32.27s/it]"
     ]
    },
    {
     "name": "stdout",
     "output_type": "stream",
     "text": [
      "[0.89257949]\n"
     ]
    },
    {
     "name": "stderr",
     "output_type": "stream",
     "text": [
      "\r\n",
      " 72%|█████████████▋     | 60/83 [56:58<12:24, 32.39s/it]"
     ]
    },
    {
     "name": "stdout",
     "output_type": "stream",
     "text": [
      "[0.89257949]\n"
     ]
    },
    {
     "name": "stderr",
     "output_type": "stream",
     "text": [
      "\r\n",
      " 73%|█████████████▉     | 61/83 [57:30<11:45, 32.07s/it]"
     ]
    },
    {
     "name": "stdout",
     "output_type": "stream",
     "text": [
      "[0.89257949]\n"
     ]
    },
    {
     "name": "stderr",
     "output_type": "stream",
     "text": [
      "\r\n",
      " 75%|██████████████▏    | 62/83 [58:02<11:13, 32.05s/it]"
     ]
    },
    {
     "name": "stdout",
     "output_type": "stream",
     "text": [
      "[0.89257949]\n"
     ]
    },
    {
     "name": "stderr",
     "output_type": "stream",
     "text": [
      "\r\n",
      " 76%|██████████████▍    | 63/83 [58:33<10:38, 31.94s/it]"
     ]
    },
    {
     "name": "stdout",
     "output_type": "stream",
     "text": [
      "[0.89257949]\n"
     ]
    },
    {
     "name": "stderr",
     "output_type": "stream",
     "text": [
      "\r\n",
      " 77%|██████████████▋    | 64/83 [59:05<10:04, 31.83s/it]"
     ]
    },
    {
     "name": "stdout",
     "output_type": "stream",
     "text": [
      "[0.89257949]\n"
     ]
    },
    {
     "name": "stderr",
     "output_type": "stream",
     "text": [
      "\r\n",
      " 78%|██████████████▉    | 65/83 [59:37<09:32, 31.81s/it]"
     ]
    },
    {
     "name": "stdout",
     "output_type": "stream",
     "text": [
      "[0.89246488]\n"
     ]
    },
    {
     "name": "stderr",
     "output_type": "stream",
     "text": [
      "\r\n",
      " 80%|█████████████▌   | 66/83 [1:00:09<09:01, 31.88s/it]"
     ]
    },
    {
     "name": "stdout",
     "output_type": "stream",
     "text": [
      "[0.89253776]\n"
     ]
    },
    {
     "name": "stderr",
     "output_type": "stream",
     "text": [
      "\r\n",
      " 81%|█████████████▋   | 67/83 [1:00:41<08:33, 32.10s/it]"
     ]
    },
    {
     "name": "stdout",
     "output_type": "stream",
     "text": [
      "[0.89330898]\n"
     ]
    },
    {
     "name": "stderr",
     "output_type": "stream",
     "text": [
      "\r\n",
      " 82%|█████████████▉   | 68/83 [1:01:13<07:58, 31.93s/it]"
     ]
    },
    {
     "name": "stdout",
     "output_type": "stream",
     "text": [
      "[0.89265616]\n"
     ]
    },
    {
     "name": "stderr",
     "output_type": "stream",
     "text": [
      "\r\n",
      " 83%|██████████████▏  | 69/83 [1:01:45<07:27, 31.97s/it]"
     ]
    },
    {
     "name": "stdout",
     "output_type": "stream",
     "text": [
      "[0.89542102]\n"
     ]
    },
    {
     "name": "stderr",
     "output_type": "stream",
     "text": [
      "\r\n",
      " 84%|██████████████▎  | 70/83 [1:02:17<06:54, 31.90s/it]"
     ]
    },
    {
     "name": "stdout",
     "output_type": "stream",
     "text": [
      "[0.89274037]\n"
     ]
    },
    {
     "name": "stderr",
     "output_type": "stream",
     "text": [
      "\r\n",
      " 86%|██████████████▌  | 71/83 [1:02:50<06:25, 32.16s/it]"
     ]
    },
    {
     "name": "stdout",
     "output_type": "stream",
     "text": [
      "[0.88807522]\n"
     ]
    },
    {
     "name": "stderr",
     "output_type": "stream",
     "text": [
      "\r\n",
      " 87%|██████████████▋  | 72/83 [1:03:22<05:56, 32.38s/it]"
     ]
    },
    {
     "name": "stdout",
     "output_type": "stream",
     "text": [
      "[0.86670718]\n"
     ]
    },
    {
     "name": "stderr",
     "output_type": "stream",
     "text": [
      "\r\n",
      " 88%|██████████████▉  | 73/83 [1:03:55<05:25, 32.52s/it]"
     ]
    },
    {
     "name": "stdout",
     "output_type": "stream",
     "text": [
      "[0.83746018]\n"
     ]
    },
    {
     "name": "stderr",
     "output_type": "stream",
     "text": [
      "\r\n",
      " 89%|███████████████▏ | 74/83 [1:04:29<04:56, 32.92s/it]"
     ]
    },
    {
     "name": "stdout",
     "output_type": "stream",
     "text": [
      "[0.87215953]\n"
     ]
    },
    {
     "name": "stderr",
     "output_type": "stream",
     "text": [
      "\r\n",
      " 90%|███████████████▎ | 75/83 [1:05:03<04:26, 33.28s/it]"
     ]
    },
    {
     "name": "stdout",
     "output_type": "stream",
     "text": [
      "[0.88365114]\n"
     ]
    },
    {
     "name": "stderr",
     "output_type": "stream",
     "text": [
      "\r\n",
      " 92%|███████████████▌ | 76/83 [1:05:38<03:57, 33.87s/it]"
     ]
    },
    {
     "name": "stdout",
     "output_type": "stream",
     "text": [
      "[0.82321067]\n"
     ]
    },
    {
     "name": "stderr",
     "output_type": "stream",
     "text": [
      "\r\n",
      " 93%|███████████████▊ | 77/83 [1:06:14<03:26, 34.36s/it]"
     ]
    },
    {
     "name": "stdout",
     "output_type": "stream",
     "text": [
      "[0.89331752]\n"
     ]
    },
    {
     "name": "stderr",
     "output_type": "stream",
     "text": [
      "\r\n",
      " 94%|███████████████▉ | 78/83 [1:06:48<02:51, 34.33s/it]"
     ]
    },
    {
     "name": "stdout",
     "output_type": "stream",
     "text": [
      "[0.89399749]\n"
     ]
    },
    {
     "name": "stderr",
     "output_type": "stream",
     "text": [
      "\r\n",
      " 95%|████████████████▏| 79/83 [1:07:21<02:15, 33.91s/it]"
     ]
    },
    {
     "name": "stdout",
     "output_type": "stream",
     "text": [
      "[0.89321805]\n"
     ]
    },
    {
     "name": "stderr",
     "output_type": "stream",
     "text": [
      "\r\n",
      " 96%|████████████████▍| 80/83 [1:07:55<01:41, 33.78s/it]"
     ]
    },
    {
     "name": "stdout",
     "output_type": "stream",
     "text": [
      "[0.87568917]\n"
     ]
    },
    {
     "name": "stderr",
     "output_type": "stream",
     "text": [
      "\r\n",
      " 98%|████████████████▌| 81/83 [1:08:28<01:07, 33.59s/it]"
     ]
    },
    {
     "name": "stdout",
     "output_type": "stream",
     "text": [
      "[0.85207284]\n"
     ]
    },
    {
     "name": "stderr",
     "output_type": "stream",
     "text": [
      "\r\n",
      " 99%|████████████████▊| 82/83 [1:09:01<00:33, 33.36s/it]"
     ]
    },
    {
     "name": "stdout",
     "output_type": "stream",
     "text": [
      "[0.85847882]\n"
     ]
    },
    {
     "name": "stderr",
     "output_type": "stream",
     "text": [
      "100%|█████████████████| 83/83 [1:09:32<00:00, 50.28s/it]"
     ]
    },
    {
     "name": "stdout",
     "output_type": "stream",
     "text": [
      "[0.79899082]\n"
     ]
    },
    {
     "name": "stderr",
     "output_type": "stream",
     "text": [
      "\n"
     ]
    }
   ],
   "source": [
    "## test condition x 83\n",
    "for k in tqdm(range(1,84)):\n",
    "    savename = 'prostattestcondition_' + str(k) \n",
    "    testlist = [k]\n",
    "    args = {'resume': savedckpt, 'name': savename, 'saveresults': True, 'patch_size': patch_size, 'downsampling': 4,\n",
    "       'ttalist': testlist, 'ttalistprob': testprob, 'features': 10, 'deepsupervision': True, 'gpu': 1}\n",
    "    testmap(model, args['saveresults'], args['name'] + '/results/', pathname=pathname,\n",
    "                    ImgsegmentSize=args['patch_size'], deepsupervision=args['deepsupervision'],\n",
    "                    DatafileValFoldtr=DatafileValFoldtr, DatafileValFoldts=DatafileValFoldts, NumsClass=NumsClass,\n",
    "                    ttalist=args['ttalist'], ttalistprob=args['ttalistprob'])"
   ]
  },
  {
   "cell_type": "code",
   "execution_count": 238,
   "metadata": {},
   "outputs": [
    {
     "name": "stderr",
     "output_type": "stream",
     "text": [
      " 20%|████                | 1/5 [01:47<07:10, 107.64s/it]"
     ]
    },
    {
     "name": "stdout",
     "output_type": "stream",
     "text": [
      "[0.66435248]\n"
     ]
    },
    {
     "name": "stderr",
     "output_type": "stream",
     "text": [
      "\r\n",
      " 40%|████████▍            | 2/5 [03:04<04:27, 89.26s/it]"
     ]
    },
    {
     "name": "stdout",
     "output_type": "stream",
     "text": [
      "[0.63897489]\n"
     ]
    },
    {
     "name": "stderr",
     "output_type": "stream",
     "text": [
      "\r\n",
      " 60%|████████████▌        | 3/5 [04:01<02:29, 74.55s/it]"
     ]
    },
    {
     "name": "stdout",
     "output_type": "stream",
     "text": [
      "[0.69487876]\n"
     ]
    },
    {
     "name": "stderr",
     "output_type": "stream",
     "text": [
      "\r\n",
      " 80%|████████████████▊    | 4/5 [04:39<01:00, 60.22s/it]"
     ]
    },
    {
     "name": "stdout",
     "output_type": "stream",
     "text": [
      "[0.75565781]\n"
     ]
    },
    {
     "name": "stderr",
     "output_type": "stream",
     "text": [
      "100%|█████████████████████| 5/5 [05:37<00:00, 67.55s/it]"
     ]
    },
    {
     "name": "stdout",
     "output_type": "stream",
     "text": [
      "[0.76435742]\n"
     ]
    },
    {
     "name": "stderr",
     "output_type": "stream",
     "text": [
      "\n"
     ]
    }
   ],
   "source": [
    "# test on 5 other domains\n",
    "for prostatetestpath in tqdm(prostatetestpaths):\n",
    "    DatafileValFoldts = prostatetestpath\n",
    "    savename = 'prostattestcondition_' + prostatetestpath[-2:-1]\n",
    "    args = {'resume': savedckpt, 'name': savename, 'saveresults': True, 'patch_size': patch_size, 'downsampling': 4,\n",
    "       'ttalist': testlist, 'ttalistprob': testprob, 'features': 10, 'deepsupervision': True, 'gpu': 1}\n",
    "    testmap(model, args['saveresults'], args['name'] + '/results/', pathname=pathname,\n",
    "                    ImgsegmentSize=args['patch_size'], deepsupervision=args['deepsupervision'],\n",
    "                    DatafileValFoldtr=DatafileValFoldtr, DatafileValFoldts=DatafileValFoldts, NumsClass=NumsClass,\n",
    "                    ttalist=args['ttalist'], ttalistprob=args['ttalistprob'])\n"
   ]
  },
  {
   "cell_type": "code",
   "execution_count": 185,
   "metadata": {},
   "outputs": [],
   "source": [
    "# here for atlas, test-time operations"
   ]
  },
  {
   "cell_type": "code",
   "execution_count": 226,
   "metadata": {},
   "outputs": [],
   "source": [
    "savename = 'atlasval'\n",
    "savedckpt = atlasckpt\n",
    "patch_size = [64, 64, 64]\n",
    "testlist = [0]\n",
    "testprob = [1]\n",
    "NumsInputChannel = 1\n",
    "NumsClass = 2\n",
    "pathname = 'atlas'\n",
    "DatafileValFoldtr = None\n",
    "DatafileValFoldts = atlasvalpath"
   ]
  },
  {
   "cell_type": "code",
   "execution_count": 227,
   "metadata": {},
   "outputs": [],
   "source": [
    "args = {'resume': savedckpt, 'name': savename, 'saveresults': True, 'patch_size': patch_size, 'downsampling': 4,\n",
    "       'ttalist': testlist, 'ttalistprob': testprob, 'features': 10, 'deepsupervision': True, 'gpu': 0}"
   ]
  },
  {
   "cell_type": "code",
   "execution_count": 228,
   "metadata": {},
   "outputs": [
    {
     "name": "stderr",
     "output_type": "stream",
     "text": [
      "  1%|▏              | 1/83 [19:47<27:03:20, 1187.81s/it]"
     ]
    },
    {
     "name": "stdout",
     "output_type": "stream",
     "text": [
      "[0.53707991]\n"
     ]
    },
    {
     "name": "stderr",
     "output_type": "stream",
     "text": [
      "\r\n",
      "  2%|▎              | 2/83 [40:08<27:09:41, 1207.18s/it]"
     ]
    },
    {
     "name": "stdout",
     "output_type": "stream",
     "text": [
      "[0.55419041]\n"
     ]
    },
    {
     "name": "stderr",
     "output_type": "stream",
     "text": [
      "\r\n",
      "  4%|▍            | 3/83 [1:02:29<28:11:00, 1268.25s/it]"
     ]
    },
    {
     "name": "stdout",
     "output_type": "stream",
     "text": [
      "[0.56657292]\n"
     ]
    },
    {
     "name": "stderr",
     "output_type": "stream",
     "text": [
      "  4%|▍            | 3/83 [1:16:56<34:11:51, 1538.90s/it]\n"
     ]
    },
    {
     "ename": "KeyboardInterrupt",
     "evalue": "",
     "output_type": "error",
     "traceback": [
      "\u001b[0;31m---------------------------------------------------------------------------\u001b[0m",
      "\u001b[0;31mKeyboardInterrupt\u001b[0m                         Traceback (most recent call last)",
      "\u001b[0;32m/tmp/ipykernel_11586/3146247203.py\u001b[0m in \u001b[0;36m<module>\u001b[0;34m\u001b[0m\n\u001b[1;32m      5\u001b[0m     args = {'resume': savedckpt, 'name': savename, 'saveresults': True, 'patch_size': patch_size, 'downsampling': 4,\n\u001b[1;32m      6\u001b[0m        'ttalist': testlist, 'ttalistprob': testprob, 'features': 10, 'deepsupervision': True, 'gpu': 1}\n\u001b[0;32m----> 7\u001b[0;31m     testmap(model, args['saveresults'], args['name'] + '/results/', pathname=pathname,\n\u001b[0m\u001b[1;32m      8\u001b[0m                     \u001b[0mImgsegmentSize\u001b[0m\u001b[0;34m=\u001b[0m\u001b[0margs\u001b[0m\u001b[0;34m[\u001b[0m\u001b[0;34m'patch_size'\u001b[0m\u001b[0;34m]\u001b[0m\u001b[0;34m,\u001b[0m \u001b[0mdeepsupervision\u001b[0m\u001b[0;34m=\u001b[0m\u001b[0margs\u001b[0m\u001b[0;34m[\u001b[0m\u001b[0;34m'deepsupervision'\u001b[0m\u001b[0;34m]\u001b[0m\u001b[0;34m,\u001b[0m\u001b[0;34m\u001b[0m\u001b[0;34m\u001b[0m\u001b[0m\n\u001b[1;32m      9\u001b[0m                     \u001b[0mDatafileValFoldtr\u001b[0m\u001b[0;34m=\u001b[0m\u001b[0mDatafileValFoldtr\u001b[0m\u001b[0;34m,\u001b[0m \u001b[0mDatafileValFoldts\u001b[0m\u001b[0;34m=\u001b[0m\u001b[0mDatafileValFoldts\u001b[0m\u001b[0;34m,\u001b[0m \u001b[0mNumsClass\u001b[0m\u001b[0;34m=\u001b[0m\u001b[0mNumsClass\u001b[0m\u001b[0;34m,\u001b[0m\u001b[0;34m\u001b[0m\u001b[0;34m\u001b[0m\u001b[0m\n",
      "\u001b[0;32m/tmp/ipykernel_11586/138519745.py\u001b[0m in \u001b[0;36mtestmap\u001b[0;34m(model, saveresults, name, pathname, ImgsegmentSize, deepsupervision, DatafileValFoldtr, DatafileValFoldts, tta, ttalist, NumsClass, ttalistprob)\u001b[0m\n\u001b[1;32m     46\u001b[0m \u001b[0;34m\u001b[0m\u001b[0m\n\u001b[1;32m     47\u001b[0m         \u001b[0;32mfrom\u001b[0m \u001b[0mcommon_test_Unet\u001b[0m \u001b[0;32mimport\u001b[0m \u001b[0mtta_rolling\u001b[0m\u001b[0;34m\u001b[0m\u001b[0;34m\u001b[0m\u001b[0m\n\u001b[0;32m---> 48\u001b[0;31m         \u001b[0mhp_results\u001b[0m \u001b[0;34m=\u001b[0m \u001b[0mtta_rolling\u001b[0m\u001b[0;34m(\u001b[0m\u001b[0mmodel\u001b[0m\u001b[0;34m,\u001b[0m \u001b[0mchannels\u001b[0m\u001b[0;34m,\u001b[0m \u001b[0mbatch_size\u001b[0m\u001b[0;34m,\u001b[0m \u001b[0mImgsegmentSize\u001b[0m\u001b[0;34m,\u001b[0m \u001b[0mNumsInputChannel\u001b[0m\u001b[0;34m,\u001b[0m \u001b[0mNumsClass\u001b[0m\u001b[0;34m,\u001b[0m \u001b[0mtta\u001b[0m\u001b[0;34m,\u001b[0m \u001b[0mttalist\u001b[0m\u001b[0;34m,\u001b[0m \u001b[0mttalistprob\u001b[0m\u001b[0;34m,\u001b[0m \u001b[0mdeepsupervision\u001b[0m\u001b[0;34m)\u001b[0m\u001b[0;34m\u001b[0m\u001b[0;34m\u001b[0m\u001b[0m\n\u001b[0m\u001b[1;32m     49\u001b[0m \u001b[0;34m\u001b[0m\u001b[0m\n\u001b[1;32m     50\u001b[0m         \u001b[0;31m## use the mask to constratin the results\u001b[0m\u001b[0;34m\u001b[0m\u001b[0;34m\u001b[0m\u001b[0m\n",
      "\u001b[0;32m/vol/biomedic3/zl9518/ModelEvaluation/Segment/common_test_Unet.py\u001b[0m in \u001b[0;36mtta_rolling\u001b[0;34m(model, channels, batch_size, ImgsegmentSize, NumsInputChannel, NumsClass, tta, ttalist, ttalistprob, deepsupervision)\u001b[0m\n\u001b[1;32m   1768\u001b[0m \u001b[0;34m\u001b[0m\u001b[0m\n\u001b[1;32m   1769\u001b[0m             \u001b[0;31m## return the center? to get the right transform.\u001b[0m\u001b[0;34m\u001b[0m\u001b[0;34m\u001b[0m\u001b[0m\n\u001b[0;32m-> 1770\u001b[0;31m             (channels_augment, _, transf_mtx) = augment_imgs_of_case(channels.copy(), None,\n\u001b[0m\u001b[1;32m   1771\u001b[0m                                                             None, None, prmssel, new_patch_size_primary, rng)\n\u001b[1;32m   1772\u001b[0m             \u001b[0mtransf_mtx_inv\u001b[0m \u001b[0;34m=\u001b[0m \u001b[0minv\u001b[0m\u001b[0;34m(\u001b[0m\u001b[0mtransf_mtx\u001b[0m\u001b[0;34m)\u001b[0m\u001b[0;34m\u001b[0m\u001b[0;34m\u001b[0m\u001b[0m\n",
      "\u001b[0;32m/vol/biomedic3/zl9518/ModelEvaluation/Segment/augmentImagerng.py\u001b[0m in \u001b[0;36maugment_imgs_of_case\u001b[0;34m(channels, gt_lbls, roi_mask, wmaps_per_cat, prms, patch_size, rng, transf_mtx)\u001b[0m\n\u001b[1;32m     30\u001b[0m          \u001b[0mroi_mask\u001b[0m\u001b[0;34m,\u001b[0m\u001b[0;34m\u001b[0m\u001b[0;34m\u001b[0m\u001b[0m\n\u001b[1;32m     31\u001b[0m          \u001b[0mwmaps_per_cat\u001b[0m\u001b[0;34m,\u001b[0m\u001b[0;34m\u001b[0m\u001b[0;34m\u001b[0m\u001b[0m\n\u001b[0;32m---> 32\u001b[0;31m          \u001b[0mtransf_mtx\u001b[0m\u001b[0;34m)\u001b[0m \u001b[0;34m=\u001b[0m \u001b[0mrandom_affine_deformation\u001b[0m\u001b[0;34m(\u001b[0m\u001b[0mchannels\u001b[0m\u001b[0;34m,\u001b[0m\u001b[0;34m\u001b[0m\u001b[0;34m\u001b[0m\u001b[0m\n\u001b[0m\u001b[1;32m     33\u001b[0m                                                     \u001b[0mgt_lbls\u001b[0m\u001b[0;34m,\u001b[0m\u001b[0;34m\u001b[0m\u001b[0;34m\u001b[0m\u001b[0m\n\u001b[1;32m     34\u001b[0m                                                     \u001b[0mroi_mask\u001b[0m\u001b[0;34m,\u001b[0m\u001b[0;34m\u001b[0m\u001b[0;34m\u001b[0m\u001b[0m\n",
      "\u001b[0;32m/vol/biomedic3/zl9518/ModelEvaluation/Segment/augmentImagerng.py\u001b[0m in \u001b[0;36mrandom_affine_deformation\u001b[0;34m(channels, gt_lbls, roi_mask, wmaps_l, patch_size, rng, prms, transf_mtx)\u001b[0m\n\u001b[1;32m     53\u001b[0m     \u001b[0;32massert\u001b[0m \u001b[0mtransf_mtx\u001b[0m \u001b[0;32mis\u001b[0m \u001b[0;32mnot\u001b[0m \u001b[0;32mNone\u001b[0m\u001b[0;34m\u001b[0m\u001b[0;34m\u001b[0m\u001b[0m\n\u001b[1;32m     54\u001b[0m \u001b[0;34m\u001b[0m\u001b[0m\n\u001b[0;32m---> 55\u001b[0;31m     channels = augm(images_l=channels,\n\u001b[0m\u001b[1;32m     56\u001b[0m                     \u001b[0mtransf_mtx\u001b[0m\u001b[0;34m=\u001b[0m\u001b[0mtransf_mtx\u001b[0m\u001b[0;34m,\u001b[0m\u001b[0;34m\u001b[0m\u001b[0;34m\u001b[0m\u001b[0m\n\u001b[1;32m     57\u001b[0m                     \u001b[0minterp_orders\u001b[0m\u001b[0;34m=\u001b[0m\u001b[0mprms\u001b[0m\u001b[0;34m[\u001b[0m\u001b[0;34m'interp_order_imgs'\u001b[0m\u001b[0;34m]\u001b[0m\u001b[0;34m,\u001b[0m\u001b[0;34m\u001b[0m\u001b[0;34m\u001b[0m\u001b[0m\n",
      "\u001b[0;32m/vol/biomedic3/zl9518/ModelEvaluation/Segment/augmentImagerng.py\u001b[0m in \u001b[0;36m__call__\u001b[0;34m(self, images_l, transf_mtx, interp_orders, boundary_modes, patch_size, cval, imgchannels)\u001b[0m\n\u001b[1;32m    287\u001b[0m                 \u001b[0;32mpass\u001b[0m  \u001b[0;31m# Dont do anything. Let it be None.\u001b[0m\u001b[0;34m\u001b[0m\u001b[0;34m\u001b[0m\u001b[0m\n\u001b[1;32m    288\u001b[0m             \u001b[0;32melse\u001b[0m\u001b[0;34m:\u001b[0m\u001b[0;34m\u001b[0m\u001b[0;34m\u001b[0m\u001b[0m\n\u001b[0;32m--> 289\u001b[0;31m                 new_images[img_i] = self._apply_transformation(images_l[img_i],\n\u001b[0m\u001b[1;32m    290\u001b[0m                                                                 \u001b[0mcoords\u001b[0m\u001b[0;34m.\u001b[0m\u001b[0mcopy\u001b[0m\u001b[0;34m(\u001b[0m\u001b[0;34m)\u001b[0m\u001b[0;34m,\u001b[0m\u001b[0;34m\u001b[0m\u001b[0;34m\u001b[0m\u001b[0m\n\u001b[1;32m    291\u001b[0m                                                                 \u001b[0mint_order\u001b[0m\u001b[0;34m,\u001b[0m\u001b[0;34m\u001b[0m\u001b[0;34m\u001b[0m\u001b[0m\n",
      "\u001b[0;32m/vol/biomedic3/zl9518/ModelEvaluation/Segment/augmentImagerng.py\u001b[0m in \u001b[0;36m_apply_transformation\u001b[0;34m(self, image, coords, interp_order, boundary_mode, cval, imgchannels)\u001b[0m\n\u001b[1;32m    241\u001b[0m             \u001b[0;32mreturn\u001b[0m \u001b[0mresult\u001b[0m\u001b[0;34m\u001b[0m\u001b[0;34m\u001b[0m\u001b[0m\n\u001b[1;32m    242\u001b[0m         \u001b[0;32melse\u001b[0m\u001b[0;34m:\u001b[0m\u001b[0;34m\u001b[0m\u001b[0;34m\u001b[0m\u001b[0m\n\u001b[0;32m--> 243\u001b[0;31m             new_image = scipy.ndimage.map_coordinates(image.astype(float),\n\u001b[0m\u001b[1;32m    244\u001b[0m                                                     \u001b[0mcoords\u001b[0m\u001b[0;34m,\u001b[0m\u001b[0;34m\u001b[0m\u001b[0;34m\u001b[0m\u001b[0m\n\u001b[1;32m    245\u001b[0m                                                     \u001b[0morder\u001b[0m\u001b[0;34m=\u001b[0m\u001b[0minterp_order\u001b[0m\u001b[0;34m,\u001b[0m\u001b[0;34m\u001b[0m\u001b[0;34m\u001b[0m\u001b[0m\n",
      "\u001b[0;32m/vol/biomedic2/zl9518/anaconda3/envs/IW/lib/python3.9/site-packages/scipy/ndimage/interpolation.py\u001b[0m in \u001b[0;36mmap_coordinates\u001b[0;34m(input, coordinates, output, order, mode, cval, prefilter)\u001b[0m\n\u001b[1;32m    454\u001b[0m         \u001b[0mfiltered\u001b[0m \u001b[0;34m=\u001b[0m \u001b[0minput\u001b[0m\u001b[0;34m\u001b[0m\u001b[0;34m\u001b[0m\u001b[0m\n\u001b[1;32m    455\u001b[0m     \u001b[0mmode\u001b[0m \u001b[0;34m=\u001b[0m \u001b[0m_ni_support\u001b[0m\u001b[0;34m.\u001b[0m\u001b[0m_extend_mode_to_code\u001b[0m\u001b[0;34m(\u001b[0m\u001b[0mmode\u001b[0m\u001b[0;34m)\u001b[0m\u001b[0;34m\u001b[0m\u001b[0;34m\u001b[0m\u001b[0m\n\u001b[0;32m--> 456\u001b[0;31m     _nd_image.geometric_transform(filtered, None, coordinates, None, None,\n\u001b[0m\u001b[1;32m    457\u001b[0m                                   output, order, mode, cval, npad, None, None)\n\u001b[1;32m    458\u001b[0m     \u001b[0;32mreturn\u001b[0m \u001b[0moutput\u001b[0m\u001b[0;34m\u001b[0m\u001b[0;34m\u001b[0m\u001b[0m\n",
      "\u001b[0;31mKeyboardInterrupt\u001b[0m: "
     ]
    }
   ],
   "source": [
    "## test condition x 83\n",
    "for k in tqdm(range(1,84)):\n",
    "    savename = 'atlastestcondition_' + str(k) \n",
    "    testlist = [k]\n",
    "    args = {'resume': savedckpt, 'name': savename, 'saveresults': True, 'patch_size': patch_size, 'downsampling': 4,\n",
    "       'ttalist': testlist, 'ttalistprob': testprob, 'features': 10, 'deepsupervision': True, 'gpu': 1}\n",
    "    testmap(model, args['saveresults'], args['name'] + '/results/', pathname=pathname,\n",
    "                    ImgsegmentSize=args['patch_size'], deepsupervision=args['deepsupervision'],\n",
    "                    DatafileValFoldtr=DatafileValFoldtr, DatafileValFoldts=DatafileValFoldts, NumsClass=NumsClass,\n",
    "                    ttalist=args['ttalist'], ttalistprob=args['ttalistprob'])"
   ]
  },
  {
   "cell_type": "code",
   "execution_count": null,
   "metadata": {},
   "outputs": [],
   "source": []
  },
  {
   "cell_type": "code",
   "execution_count": null,
   "metadata": {},
   "outputs": [],
   "source": []
  },
  {
   "cell_type": "code",
   "execution_count": null,
   "metadata": {},
   "outputs": [],
   "source": []
  },
  {
   "cell_type": "code",
   "execution_count": null,
   "metadata": {},
   "outputs": [],
   "source": []
  }
 ],
 "metadata": {
  "kernelspec": {
   "display_name": "IW",
   "language": "python",
   "name": "iw"
  },
  "language_info": {
   "codemirror_mode": {
    "name": "ipython",
    "version": 3
   },
   "file_extension": ".py",
   "mimetype": "text/x-python",
   "name": "python",
   "nbconvert_exporter": "python",
   "pygments_lexer": "ipython3",
   "version": "3.9.7"
  }
 },
 "nbformat": 4,
 "nbformat_minor": 2
}
