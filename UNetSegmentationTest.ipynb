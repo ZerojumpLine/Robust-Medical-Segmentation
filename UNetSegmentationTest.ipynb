{
 "cells": [
  {
   "cell_type": "code",
   "execution_count": 1,
   "metadata": {},
   "outputs": [
    {
     "name": "stderr",
     "output_type": "stream",
     "text": [
      "/tmp/slurm-32268467/ipykernel_37419/3809002401.py:11: DeprecationWarning: Please use `gaussian_filter` from the `scipy.ndimage` namespace, the `scipy.ndimage.filters` namespace is deprecated.\n",
      "  from scipy.ndimage.filters import gaussian_filter\n"
     ]
    }
   ],
   "source": [
    "import os\n",
    "from scipy import signal\n",
    "import nibabel as nib\n",
    "import numpy as np\n",
    "import argparse\n",
    "from Unet import Generic_UNet, InitWeights_He\n",
    "import math\n",
    "from tqdm import tqdm\n",
    "import torch\n",
    "import torch.nn as nn\n",
    "from scipy.ndimage.filters import gaussian_filter\n",
    "from collections import OrderedDict\n",
    "from numpy.linalg import inv\n",
    "from utilities import SoftDiceLoss, resize_segmentation, _concat, _concatmodel, ComputMetric\n",
    "from sampling_multiprocess import get_augment_par\n",
    "from common_test_Unet import pad_nd_image, _compute_steps_for_sliding_window, getallbatch\n",
    "import torch.nn.functional as F"
   ]
  },
  {
   "cell_type": "code",
   "execution_count": 2,
   "metadata": {},
   "outputs": [],
   "source": [
    "def testmap(model, saveresults, name, pathname = None, ImgsegmentSize = [80, 160, 160], deepsupervision=False, \n",
    "    DatafileValFoldtr=None, DatafileValFoldts=None, tta=False, ttalist=[0], NumsClass = 2, ttalistprob=[1]):\n",
    "    \n",
    "    batch_size = 1\n",
    "    NumsInputChannel = 1\n",
    "\n",
    "    DatafiletsFold = DatafileValFoldts\n",
    "    DatafiletsImgc1 = DatafiletsFold + 'Imgpre-eval.txt'\n",
    "    DatafiletsLabel = DatafiletsFold + 'seg-eval.txt'\n",
    "    DatafiletsMask = DatafiletsFold + 'mask-eval.txt'\n",
    "\n",
    "    Imgfiletsc1 = open(DatafiletsImgc1)\n",
    "    Imgreadtsc1 = Imgfiletsc1.read().splitlines()\n",
    "    if os.path.isfile(DatafiletsMask):\n",
    "        Masktsfile = open(DatafiletsMask)\n",
    "        Masktsread = Masktsfile.read().splitlines()\n",
    "        Maskread = Masktsread\n",
    "    Labeltsfile = open(DatafiletsLabel)\n",
    "    Labeltsread = Labeltsfile.read().splitlines()\n",
    "\n",
    "    Imgreadc1 = Imgreadtsc1\n",
    "    Labelread = Labeltsread\n",
    "    \n",
    "    DSClist = []\n",
    "    \n",
    "    for numr in range(len(Imgreadc1)):\n",
    "\n",
    "        Imgnamec1 = Imgreadc1[numr]\n",
    "        Imgloadc1 = nib.load(Imgnamec1)\n",
    "        Imgc1 = Imgloadc1.get_fdata()\n",
    "        \n",
    "        if os.path.isfile(DatafiletsMask):\n",
    "            Maskname = Maskread[numr]\n",
    "            Maskload = nib.load(Maskname)\n",
    "            roi_mask = Maskload.get_fdata()\n",
    "        Labelname = Labelread[numr]\n",
    "        Labelload = nib.load(Labelname)\n",
    "        gtlabel = Labelload.get_fdata()\n",
    "        \n",
    "        Imgc1 = np.float32(Imgc1)\n",
    "\n",
    "        knamelist = Imgnamec1.split(\"/\")\n",
    "        kname = knamelist[-2]\n",
    "\n",
    "        channels = Imgc1[None, ...]\n",
    "\n",
    "        from common_test_Unet import tta_rolling\n",
    "        hp_results = tta_rolling(model, channels, batch_size, ImgsegmentSize, NumsInputChannel, NumsClass, tta, ttalist, ttalistprob, deepsupervision)\n",
    "\n",
    "        ## use the mask to constratin the results\n",
    "        if os.path.isfile(DatafiletsMask):\n",
    "            PredSegmentationWithinRoi = hp_results * roi_mask\n",
    "        else:\n",
    "            PredSegmentationWithinRoi = hp_results\n",
    "        # PredSegmentationWithinRoi = predSegmentation\n",
    "\n",
    "        predlabel = np.argmax(PredSegmentationWithinRoi, axis=0)\n",
    "\n",
    "        if NumsClass == 2:\n",
    "            labelwt = gtlabel == 1\n",
    "            predwt = predlabel == 1\n",
    "    \n",
    "            DSCwt, SENSwt, PRECwt = ComputMetric(labelwt, predwt)\n",
    "    \n",
    "            # print(DSCwt)\n",
    "            DSClist.append([DSCwt])\n",
    "        else:\n",
    "            labelc1 = gtlabel == 1\n",
    "            predc1 = imgToSave == 1\n",
    "            labelc2 = gtlabel == 2\n",
    "            predc2 = imgToSave == 2\n",
    "            labelc3 = gtlabel == 3\n",
    "            predc3 = imgToSave == 3\n",
    "    \n",
    "            DSCc1, SENSc1, PRECc1 = ComputMetric(labelc1, predc1)\n",
    "            DSCc2, SENSc2, PRECc2 = ComputMetric(labelc2, predc2)\n",
    "            DSCc3, SENSc3, PRECc3 = ComputMetric(labelc3, predc3)\n",
    "    \n",
    "            # print(DSCwt)\n",
    "            DSClist.append([DSCc1, DSCc2, DSCc3])\n",
    "        \n",
    "        for kcls in range(PredSegmentationWithinRoi.shape[0]):\n",
    "\n",
    "            imgToSave = PredSegmentationWithinRoi[kcls, :, :, :]\n",
    "\n",
    "            if saveresults:\n",
    "                npDtype = np.dtype(np.float32)\n",
    "                hdr_origin = Imgloadc1.header\n",
    "                affine_origin = Imgloadc1.affine\n",
    "                \n",
    "                newLabelImg = nib.Nifti1Image(imgToSave, affine_origin)\n",
    "                newLabelImg.set_data_dtype(npDtype)\n",
    "\n",
    "                dimsImgToSave = len(imgToSave.shape)\n",
    "                newZooms = list(hdr_origin.get_zooms()[:dimsImgToSave])\n",
    "                if len(newZooms) < dimsImgToSave:  # Eg if original image was 3D, but I need to save a multi-channel image.\n",
    "                    newZooms = newZooms + [1.0] * (dimsImgToSave - len(newZooms))\n",
    "                newLabelImg.header.set_zooms(newZooms)\n",
    "\n",
    "                directory = \"./output/%s/%s/\" % (pathname, name)\n",
    "                if not os.path.exists(directory):\n",
    "                    os.makedirs(directory)\n",
    "                savename = directory + 'pred_' + kname + 'cls' + str(kcls) + '_prob.nii.gz'\n",
    "                nib.save(newLabelImg, savename)\n",
    "    \n",
    "    DSCmean = np.array(DSClist)\n",
    "    DSCmean = DSCmean.mean(axis=0)\n",
    "    print(DSCmean)"
   ]
  },
  {
   "cell_type": "code",
   "execution_count": 3,
   "metadata": {},
   "outputs": [],
   "source": [
    "prostateckpt = './checkpoints_seg/Prostate/3DUNet_vanilla_Prostate_det/checkpoint.pth.tar'\n",
    "atlasckpt = './checkpoints_seg/ATLAS/3DUNet_vanilla_ATLAS_det/checkpoint.pth.tar'\n",
    "atlasckpt_ci1 = './checkpoints_seg/ATLAS/3DUNet_vanilla_ATLAS_det/checkpoint.pth.tar'\n",
    "atlasckpt_ci2 = './checkpoints_seg/ATLAS/3DUNet_vanilla_ATLAS_det/checkpoint.pth.tar'\n",
    "atlasckpt_rl1 = './checkpoints_seg/ATLAS/3DUNet_vanilla_ATLAS_det/checkpoint.pth.tar'\n",
    "atlasckpt_rl2 = './checkpoints_seg/ATLAS/3DUNet_vanilla_ATLAS_det/checkpoint.pth.tar'\n",
    "cardiacckpt = './checkpoints_seg/Cardiac/3DUNet_vanilla_Cardiac_det/checkpoint.pth.tar'"
   ]
  },
  {
   "cell_type": "code",
   "execution_count": 4,
   "metadata": {},
   "outputs": [],
   "source": [
    "prostatevalpath = './data/datafile/Dataset_Prostate/BMCval/'\n",
    "prostatetestpath = './data/datafile/Dataset_Prostate/BMCtest/'\n",
    "prostatetestpath1 = './data/datafile/Dataset_Prostate/BIDMC/'\n",
    "prostatetestpath2 = './data/datafile/Dataset_Prostate/HK/'\n",
    "prostatetestpath3 = './data/datafile/Dataset_Prostate/I2CVB/'\n",
    "prostatetestpath4 = './data/datafile/Dataset_Prostate/RUNMC/'\n",
    "prostatetestpath5 = './data/datafile/Dataset_Prostate/UCL/'\n",
    "prostatetestpaths = [prostatetestpath1, prostatetestpath2, prostatetestpath3, prostatetestpath4, prostatetestpath5]\n",
    "#\n",
    "atlasvalpath = './data/datafile/Dataset_Brain_lesion/Siemens Trioval/'\n",
    "atlastestpath = './data/datafile/Dataset_Brain_lesion/Siemens Triotest/'\n",
    "atlastestpath1 = './data/datafile/Dataset_Brain_lesion/GE 750 Discovery/'\n",
    "atlastestpath2 = './data/datafile/Dataset_Brain_lesion/GE Signa Excite/'\n",
    "atlastestpath3 = './data/datafile/Dataset_Brain_lesion/GE Signa HD-X/'\n",
    "atlastestpath4 = './data/datafile/Dataset_Brain_lesion/Philips/'\n",
    "atlastestpath5 = './data/datafile/Dataset_Brain_lesion/Philips Achieva/'\n",
    "atlastestpath6 = './data/datafile/Dataset_Brain_lesion/Siemens Allegra/'\n",
    "atlastestpath7 = './data/datafile/Dataset_Brain_lesion/Siemens Magnetom Skyra/'\n",
    "atlastestpath8 = './data/datafile/Dataset_Brain_lesion/Siemens Prisma/'\n",
    "atlastestpath9 = './data/datafile/Dataset_Brain_lesion/Siemens Skyra/'\n",
    "atlastestpath10 = './data/datafile/Dataset_Brain_lesion/Siemens Sonata/'\n",
    "atlastestpath11 = './data/datafile/Dataset_Brain_lesion/Siemens TrioTim/'\n",
    "atlastestpath12 = './data/datafile/Dataset_Brain_lesion/Siemens Verio/'\n",
    "atlastestpath13 = './data/datafile/Dataset_Brain_lesion/Siemens Vision/'\n",
    "atlastestpaths = [atlastestpath1, atlastestpath2, atlastestpath3, atlastestpath4, atlastestpath5, \n",
    "                 atlastestpath6, atlastestpath7, atlastestpath8, atlastestpath9, atlastestpath10, \n",
    "                 atlastestpath11, atlastestpath12, atlastestpath13]\n",
    "#\n",
    "cardiacvalpath = './data/datafile/Dataset_Cardiac/1val/'\n",
    "cardiactestpath = './data/datafile/Dataset_Cardiac/1test/'\n",
    "cardiactestpath1 = './data/datafile/Dataset_Cardiac/2/'\n",
    "cardiactestpath2 = './data/datafile/Dataset_Cardiac/3/'\n",
    "cardiactestpath3 = './data/datafile/Dataset_Cardiac/4/'\n",
    "cardiactestpath4 = './data/datafile/Dataset_Cardiac/5/'\n",
    "cardiactestpaths = [cardiactestpath1, cardiactestpath2, cardiactestpath3, cardiactestpath4]"
   ]
  },
  {
   "cell_type": "markdown",
   "metadata": {},
   "source": [
    "# Prostate"
   ]
  },
  {
   "cell_type": "code",
   "execution_count": 6,
   "metadata": {},
   "outputs": [],
   "source": [
    "savename = 'prostateval'\n",
    "savedckpt = prostateckpt\n",
    "patch_size = [64, 64, 32]\n",
    "testlist = [0]\n",
    "testprob = [1]\n",
    "NumsInputChannel = 1\n",
    "NumsClass = 2\n",
    "pathname = 'prostate'\n",
    "DatafileValFoldtr = None\n",
    "DatafileValFoldts = prostatevalpath\n",
    "#\n",
    "args = {'resume': savedckpt, 'name': savename, 'saveresults': True, 'patch_size': patch_size, 'downsampling': 4,\n",
    "       'ttalist': testlist, 'ttalistprob': testprob, 'features': 30, 'deepsupervision': True, 'gpu': 0}"
   ]
  },
  {
   "cell_type": "code",
   "execution_count": 8,
   "metadata": {
    "scrolled": true
   },
   "outputs": [
    {
     "data": {
      "text/plain": [
       "Generic_UNet(\n",
       "  (conv_blocks_localization): ModuleList(\n",
       "    (0): Sequential(\n",
       "      (0): StackedConvLayers(\n",
       "        (blocks): Sequential(\n",
       "          (0): ConvDropoutNormNonlin(\n",
       "            (conv): Conv3d(480, 240, kernel_size=(3, 3, 3), stride=(1, 1, 1), padding=(1, 1, 1))\n",
       "            (instnorm): InstanceNorm3d(240, eps=1e-05, momentum=0.1, affine=True, track_running_stats=False)\n",
       "            (lrelu): LeakyReLU(negative_slope=0.01, inplace=True)\n",
       "          )\n",
       "        )\n",
       "      )\n",
       "      (1): StackedConvLayers(\n",
       "        (blocks): Sequential(\n",
       "          (0): ConvDropoutNormNonlin(\n",
       "            (conv): Conv3d(240, 240, kernel_size=(3, 3, 3), stride=(1, 1, 1), padding=(1, 1, 1))\n",
       "            (instnorm): InstanceNorm3d(240, eps=1e-05, momentum=0.1, affine=True, track_running_stats=False)\n",
       "            (lrelu): LeakyReLU(negative_slope=0.01, inplace=True)\n",
       "          )\n",
       "        )\n",
       "      )\n",
       "    )\n",
       "    (1): Sequential(\n",
       "      (0): StackedConvLayers(\n",
       "        (blocks): Sequential(\n",
       "          (0): ConvDropoutNormNonlin(\n",
       "            (conv): Conv3d(240, 120, kernel_size=(3, 3, 3), stride=(1, 1, 1), padding=(1, 1, 1))\n",
       "            (instnorm): InstanceNorm3d(120, eps=1e-05, momentum=0.1, affine=True, track_running_stats=False)\n",
       "            (lrelu): LeakyReLU(negative_slope=0.01, inplace=True)\n",
       "          )\n",
       "        )\n",
       "      )\n",
       "      (1): StackedConvLayers(\n",
       "        (blocks): Sequential(\n",
       "          (0): ConvDropoutNormNonlin(\n",
       "            (conv): Conv3d(120, 120, kernel_size=(3, 3, 3), stride=(1, 1, 1), padding=(1, 1, 1))\n",
       "            (instnorm): InstanceNorm3d(120, eps=1e-05, momentum=0.1, affine=True, track_running_stats=False)\n",
       "            (lrelu): LeakyReLU(negative_slope=0.01, inplace=True)\n",
       "          )\n",
       "        )\n",
       "      )\n",
       "    )\n",
       "    (2): Sequential(\n",
       "      (0): StackedConvLayers(\n",
       "        (blocks): Sequential(\n",
       "          (0): ConvDropoutNormNonlin(\n",
       "            (conv): Conv3d(120, 60, kernel_size=(3, 3, 3), stride=(1, 1, 1), padding=(1, 1, 1))\n",
       "            (instnorm): InstanceNorm3d(60, eps=1e-05, momentum=0.1, affine=True, track_running_stats=False)\n",
       "            (lrelu): LeakyReLU(negative_slope=0.01, inplace=True)\n",
       "          )\n",
       "        )\n",
       "      )\n",
       "      (1): StackedConvLayers(\n",
       "        (blocks): Sequential(\n",
       "          (0): ConvDropoutNormNonlin(\n",
       "            (conv): Conv3d(60, 60, kernel_size=(3, 3, 3), stride=(1, 1, 1), padding=(1, 1, 1))\n",
       "            (instnorm): InstanceNorm3d(60, eps=1e-05, momentum=0.1, affine=True, track_running_stats=False)\n",
       "            (lrelu): LeakyReLU(negative_slope=0.01, inplace=True)\n",
       "          )\n",
       "        )\n",
       "      )\n",
       "    )\n",
       "    (3): Sequential(\n",
       "      (0): StackedConvLayers(\n",
       "        (blocks): Sequential(\n",
       "          (0): ConvDropoutNormNonlin(\n",
       "            (conv): Conv3d(60, 30, kernel_size=(3, 3, 3), stride=(1, 1, 1), padding=(1, 1, 1))\n",
       "            (instnorm): InstanceNorm3d(30, eps=1e-05, momentum=0.1, affine=True, track_running_stats=False)\n",
       "            (lrelu): LeakyReLU(negative_slope=0.01, inplace=True)\n",
       "          )\n",
       "        )\n",
       "      )\n",
       "      (1): StackedConvLayers(\n",
       "        (blocks): Sequential(\n",
       "          (0): ConvDropoutNormNonlin(\n",
       "            (conv): Conv3d(30, 30, kernel_size=(3, 3, 3), stride=(1, 1, 1), padding=(1, 1, 1))\n",
       "            (instnorm): InstanceNorm3d(30, eps=1e-05, momentum=0.1, affine=True, track_running_stats=False)\n",
       "            (lrelu): LeakyReLU(negative_slope=0.01, inplace=True)\n",
       "          )\n",
       "        )\n",
       "      )\n",
       "    )\n",
       "  )\n",
       "  (conv_blocks_context): ModuleList(\n",
       "    (0): StackedConvLayers(\n",
       "      (blocks): Sequential(\n",
       "        (0): ConvDropoutNormNonlin(\n",
       "          (conv): Conv3d(1, 30, kernel_size=(3, 3, 3), stride=(1, 1, 1), padding=(1, 1, 1))\n",
       "          (instnorm): InstanceNorm3d(30, eps=1e-05, momentum=0.1, affine=True, track_running_stats=False)\n",
       "          (lrelu): LeakyReLU(negative_slope=0.01, inplace=True)\n",
       "        )\n",
       "        (1): ConvDropoutNormNonlin(\n",
       "          (conv): Conv3d(30, 30, kernel_size=(3, 3, 3), stride=(1, 1, 1), padding=(1, 1, 1))\n",
       "          (instnorm): InstanceNorm3d(30, eps=1e-05, momentum=0.1, affine=True, track_running_stats=False)\n",
       "          (lrelu): LeakyReLU(negative_slope=0.01, inplace=True)\n",
       "        )\n",
       "      )\n",
       "    )\n",
       "    (1): StackedConvLayers(\n",
       "      (blocks): Sequential(\n",
       "        (0): ConvDropoutNormNonlin(\n",
       "          (conv): Conv3d(30, 60, kernel_size=(3, 3, 3), stride=(2, 2, 1), padding=(1, 1, 1))\n",
       "          (instnorm): InstanceNorm3d(60, eps=1e-05, momentum=0.1, affine=True, track_running_stats=False)\n",
       "          (lrelu): LeakyReLU(negative_slope=0.01, inplace=True)\n",
       "        )\n",
       "        (1): ConvDropoutNormNonlin(\n",
       "          (conv): Conv3d(60, 60, kernel_size=(3, 3, 3), stride=(1, 1, 1), padding=(1, 1, 1))\n",
       "          (instnorm): InstanceNorm3d(60, eps=1e-05, momentum=0.1, affine=True, track_running_stats=False)\n",
       "          (lrelu): LeakyReLU(negative_slope=0.01, inplace=True)\n",
       "        )\n",
       "      )\n",
       "    )\n",
       "    (2): StackedConvLayers(\n",
       "      (blocks): Sequential(\n",
       "        (0): ConvDropoutNormNonlin(\n",
       "          (conv): Conv3d(60, 120, kernel_size=(3, 3, 3), stride=(2, 2, 2), padding=(1, 1, 1))\n",
       "          (instnorm): InstanceNorm3d(120, eps=1e-05, momentum=0.1, affine=True, track_running_stats=False)\n",
       "          (lrelu): LeakyReLU(negative_slope=0.01, inplace=True)\n",
       "        )\n",
       "        (1): ConvDropoutNormNonlin(\n",
       "          (conv): Conv3d(120, 120, kernel_size=(3, 3, 3), stride=(1, 1, 1), padding=(1, 1, 1))\n",
       "          (instnorm): InstanceNorm3d(120, eps=1e-05, momentum=0.1, affine=True, track_running_stats=False)\n",
       "          (lrelu): LeakyReLU(negative_slope=0.01, inplace=True)\n",
       "        )\n",
       "      )\n",
       "    )\n",
       "    (3): StackedConvLayers(\n",
       "      (blocks): Sequential(\n",
       "        (0): ConvDropoutNormNonlin(\n",
       "          (conv): Conv3d(120, 240, kernel_size=(3, 3, 3), stride=(2, 2, 2), padding=(1, 1, 1))\n",
       "          (instnorm): InstanceNorm3d(240, eps=1e-05, momentum=0.1, affine=True, track_running_stats=False)\n",
       "          (lrelu): LeakyReLU(negative_slope=0.01, inplace=True)\n",
       "        )\n",
       "        (1): ConvDropoutNormNonlin(\n",
       "          (conv): Conv3d(240, 240, kernel_size=(3, 3, 3), stride=(1, 1, 1), padding=(1, 1, 1))\n",
       "          (instnorm): InstanceNorm3d(240, eps=1e-05, momentum=0.1, affine=True, track_running_stats=False)\n",
       "          (lrelu): LeakyReLU(negative_slope=0.01, inplace=True)\n",
       "        )\n",
       "      )\n",
       "    )\n",
       "    (4): Sequential(\n",
       "      (0): StackedConvLayers(\n",
       "        (blocks): Sequential(\n",
       "          (0): ConvDropoutNormNonlin(\n",
       "            (conv): Conv3d(240, 320, kernel_size=(3, 3, 3), stride=(2, 2, 2), padding=(1, 1, 1))\n",
       "            (instnorm): InstanceNorm3d(320, eps=1e-05, momentum=0.1, affine=True, track_running_stats=False)\n",
       "            (lrelu): LeakyReLU(negative_slope=0.01, inplace=True)\n",
       "          )\n",
       "        )\n",
       "      )\n",
       "      (1): StackedConvLayers(\n",
       "        (blocks): Sequential(\n",
       "          (0): ConvDropoutNormNonlin(\n",
       "            (conv): Conv3d(320, 320, kernel_size=(3, 3, 3), stride=(1, 1, 1), padding=(1, 1, 1))\n",
       "            (instnorm): InstanceNorm3d(320, eps=1e-05, momentum=0.1, affine=True, track_running_stats=False)\n",
       "            (lrelu): LeakyReLU(negative_slope=0.01, inplace=True)\n",
       "          )\n",
       "        )\n",
       "      )\n",
       "    )\n",
       "  )\n",
       "  (td): ModuleList()\n",
       "  (tu): ModuleList(\n",
       "    (0): ConvTranspose3d(320, 240, kernel_size=(2, 2, 2), stride=(2, 2, 2), bias=False)\n",
       "    (1): ConvTranspose3d(240, 120, kernel_size=(2, 2, 2), stride=(2, 2, 2), bias=False)\n",
       "    (2): ConvTranspose3d(120, 60, kernel_size=(2, 2, 2), stride=(2, 2, 2), bias=False)\n",
       "    (3): ConvTranspose3d(60, 30, kernel_size=(2, 2, 1), stride=(2, 2, 1), bias=False)\n",
       "  )\n",
       "  (seg_outputs): ModuleList(\n",
       "    (0): Conv3d(240, 2, kernel_size=(1, 1, 1), stride=(1, 1, 1), bias=False)\n",
       "    (1): Conv3d(120, 2, kernel_size=(1, 1, 1), stride=(1, 1, 1), bias=False)\n",
       "    (2): Conv3d(60, 2, kernel_size=(1, 1, 1), stride=(1, 1, 1), bias=False)\n",
       "    (3): Conv3d(30, 2, kernel_size=(1, 1, 1), stride=(1, 1, 1), bias=False)\n",
       "  )\n",
       ")"
      ]
     },
     "execution_count": 8,
     "metadata": {},
     "output_type": "execute_result"
    }
   ],
   "source": [
    "# create model\n",
    "conv_op = nn.Conv3d\n",
    "dropout_op = nn.Dropout3d\n",
    "norm_op = nn.InstanceNorm3d\n",
    "conv_per_stage = 2\n",
    "base_num_features = args['features']\n",
    "args['features'] = base_num_features\n",
    "\n",
    "norm_op_kwargs = {'eps': 1e-5, 'affine': True}\n",
    "dropout_op_kwargs = {'p': 0, 'inplace': True}\n",
    "net_nonlin = nn.LeakyReLU\n",
    "net_nonlin_kwargs = {'negative_slope': 1e-2, 'inplace': True}\n",
    "net_num_pool_op_kernel_sizes = []\n",
    "net_num_pool_op_kernel_sizes.append([2, 2, 1])\n",
    "for kiter in range(0, args['downsampling'] - 1):  # (0,5)\n",
    "    net_num_pool_op_kernel_sizes.append([2, 2, 2])\n",
    "net_conv_kernel_sizes = []\n",
    "for kiter in range(0, args['downsampling'] + 1):  # (0,6)\n",
    "    net_conv_kernel_sizes.append([3, 3, 3])\n",
    "\n",
    "model = Generic_UNet(NumsInputChannel, base_num_features, NumsClass,\n",
    "                     len(net_num_pool_op_kernel_sizes),\n",
    "                     conv_per_stage, 2, conv_op, norm_op, norm_op_kwargs, dropout_op,\n",
    "                     dropout_op_kwargs,\n",
    "                     net_nonlin, net_nonlin_kwargs, args['deepsupervision'], False, lambda x: x, InitWeights_He(1e-2),\n",
    "                     net_num_pool_op_kernel_sizes, net_conv_kernel_sizes, False, True, True)\n",
    "model = model.cuda()\n",
    "model.eval()"
   ]
  },
  {
   "cell_type": "code",
   "execution_count": 9,
   "metadata": {},
   "outputs": [
    {
     "name": "stdout",
     "output_type": "stream",
     "text": [
      "=> loading checkpoint './checkpoints_seg/Prostate/3DUNet_vanilla_Prostate_det/checkpoint.pth.tar'\n",
      "=> loaded checkpoint './checkpoints_seg/Prostate/3DUNet_vanilla_Prostate_det/checkpoint.pth.tar' (epoch 1000)\n"
     ]
    }
   ],
   "source": [
    "torch.cuda.set_device(args['gpu'])\n",
    "if args['resume']:\n",
    "    if os.path.isfile(args['resume']):\n",
    "        print(\"=> loading checkpoint '{}'\".format(args['resume']))\n",
    "        checkpoint = torch.load(args['resume'], map_location='cuda:' + str(args['gpu']))\n",
    "        model.load_state_dict(checkpoint['state_dict'])\n",
    "        print(\"=> loaded checkpoint '{}' (epoch {})\".format(args['resume'], checkpoint['epoch']))\n",
    "    else:\n",
    "        print(\"=> no checkpoint found at '{}'\".format(args['resume']))"
   ]
  },
  {
   "cell_type": "code",
   "execution_count": 10,
   "metadata": {},
   "outputs": [
    {
     "name": "stdout",
     "output_type": "stream",
     "text": [
      "[0.90751841]\n"
     ]
    }
   ],
   "source": [
    "testmap(model, args['saveresults'], args['name'] + '/results/', pathname=pathname,\n",
    "                    ImgsegmentSize=args['patch_size'], deepsupervision=args['deepsupervision'],\n",
    "                    DatafileValFoldtr=DatafileValFoldtr, DatafileValFoldts=DatafileValFoldts, NumsClass=NumsClass,\n",
    "                    ttalist=args['ttalist'], ttalistprob=args['ttalistprob'])"
   ]
  },
  {
   "cell_type": "code",
   "execution_count": 12,
   "metadata": {
    "scrolled": true
   },
   "outputs": [
    {
     "name": "stderr",
     "output_type": "stream",
     "text": [
      "  1%|▋                                                        | 1/83 [00:49<1:07:09, 49.15s/it]"
     ]
    },
    {
     "name": "stdout",
     "output_type": "stream",
     "text": [
      "[0.88872355]\n"
     ]
    },
    {
     "name": "stderr",
     "output_type": "stream",
     "text": [
      "  2%|█▎                                                       | 2/83 [01:39<1:07:40, 50.13s/it]"
     ]
    },
    {
     "name": "stdout",
     "output_type": "stream",
     "text": [
      "[0.88246969]\n"
     ]
    },
    {
     "name": "stderr",
     "output_type": "stream",
     "text": [
      "  4%|██                                                       | 3/83 [02:35<1:10:01, 52.52s/it]"
     ]
    },
    {
     "name": "stdout",
     "output_type": "stream",
     "text": [
      "[0.88294078]\n"
     ]
    },
    {
     "name": "stderr",
     "output_type": "stream",
     "text": [
      "  5%|██▋                                                      | 4/83 [03:35<1:13:12, 55.61s/it]"
     ]
    },
    {
     "name": "stdout",
     "output_type": "stream",
     "text": [
      "[0.86823849]\n"
     ]
    },
    {
     "name": "stderr",
     "output_type": "stream",
     "text": [
      "  6%|███▍                                                     | 5/83 [04:34<1:13:48, 56.78s/it]"
     ]
    },
    {
     "name": "stdout",
     "output_type": "stream",
     "text": [
      "[0.88873576]\n"
     ]
    },
    {
     "name": "stderr",
     "output_type": "stream",
     "text": [
      "  7%|████                                                     | 6/83 [05:42<1:17:45, 60.59s/it]"
     ]
    },
    {
     "name": "stdout",
     "output_type": "stream",
     "text": [
      "[0.84705029]\n"
     ]
    },
    {
     "name": "stderr",
     "output_type": "stream",
     "text": [
      "  8%|████▊                                                    | 7/83 [06:54<1:21:38, 64.45s/it]"
     ]
    },
    {
     "name": "stdout",
     "output_type": "stream",
     "text": [
      "[0.86508112]\n"
     ]
    },
    {
     "name": "stderr",
     "output_type": "stream",
     "text": [
      " 10%|█████▍                                                   | 8/83 [08:19<1:28:43, 70.98s/it]"
     ]
    },
    {
     "name": "stdout",
     "output_type": "stream",
     "text": [
      "[0.84346408]\n"
     ]
    },
    {
     "name": "stderr",
     "output_type": "stream",
     "text": [
      " 11%|██████▏                                                  | 9/83 [09:44<1:32:44, 75.19s/it]"
     ]
    },
    {
     "name": "stdout",
     "output_type": "stream",
     "text": [
      "[0.87345191]\n"
     ]
    },
    {
     "name": "stderr",
     "output_type": "stream",
     "text": [
      " 12%|██████▋                                                 | 10/83 [11:24<1:40:59, 83.01s/it]"
     ]
    },
    {
     "name": "stdout",
     "output_type": "stream",
     "text": [
      "[0.80690561]\n"
     ]
    },
    {
     "name": "stderr",
     "output_type": "stream",
     "text": [
      " 13%|███████▍                                                | 11/83 [12:19<1:29:17, 74.41s/it]"
     ]
    },
    {
     "name": "stdout",
     "output_type": "stream",
     "text": [
      "[0.87448911]\n"
     ]
    },
    {
     "name": "stderr",
     "output_type": "stream",
     "text": [
      " 14%|████████                                                | 12/83 [13:15<1:21:22, 68.77s/it]"
     ]
    },
    {
     "name": "stdout",
     "output_type": "stream",
     "text": [
      "[0.88383196]\n"
     ]
    },
    {
     "name": "stderr",
     "output_type": "stream",
     "text": [
      " 16%|████████▊                                               | 13/83 [14:21<1:19:21, 68.02s/it]"
     ]
    },
    {
     "name": "stdout",
     "output_type": "stream",
     "text": [
      "[0.86318845]\n"
     ]
    },
    {
     "name": "stderr",
     "output_type": "stream",
     "text": [
      " 17%|█████████▍                                              | 14/83 [15:28<1:17:38, 67.52s/it]"
     ]
    },
    {
     "name": "stdout",
     "output_type": "stream",
     "text": [
      "[0.85468131]\n"
     ]
    },
    {
     "name": "stderr",
     "output_type": "stream",
     "text": [
      " 18%|██████████                                              | 15/83 [16:40<1:18:06, 68.92s/it]"
     ]
    },
    {
     "name": "stdout",
     "output_type": "stream",
     "text": [
      "[0.86801286]\n"
     ]
    },
    {
     "name": "stderr",
     "output_type": "stream",
     "text": [
      " 19%|██████████▊                                             | 16/83 [17:52<1:18:07, 69.97s/it]"
     ]
    },
    {
     "name": "stdout",
     "output_type": "stream",
     "text": [
      "[0.86422916]\n"
     ]
    },
    {
     "name": "stderr",
     "output_type": "stream",
     "text": [
      " 20%|███████████▍                                            | 17/83 [18:47<1:11:58, 65.44s/it]"
     ]
    },
    {
     "name": "stdout",
     "output_type": "stream",
     "text": [
      "[0.88328471]\n"
     ]
    },
    {
     "name": "stderr",
     "output_type": "stream",
     "text": [
      " 22%|████████████▏                                           | 18/83 [19:46<1:08:40, 63.40s/it]"
     ]
    },
    {
     "name": "stdout",
     "output_type": "stream",
     "text": [
      "[0.87921553]\n"
     ]
    },
    {
     "name": "stderr",
     "output_type": "stream",
     "text": [
      " 23%|████████████▊                                           | 19/83 [20:52<1:08:36, 64.32s/it]"
     ]
    },
    {
     "name": "stdout",
     "output_type": "stream",
     "text": [
      "[0.85617005]\n"
     ]
    },
    {
     "name": "stderr",
     "output_type": "stream",
     "text": [
      " 24%|█████████████▍                                          | 20/83 [21:59<1:08:06, 64.87s/it]"
     ]
    },
    {
     "name": "stdout",
     "output_type": "stream",
     "text": [
      "[0.86488123]\n"
     ]
    },
    {
     "name": "stderr",
     "output_type": "stream",
     "text": [
      " 25%|██████████████▏                                         | 21/83 [23:12<1:09:43, 67.48s/it]"
     ]
    },
    {
     "name": "stdout",
     "output_type": "stream",
     "text": [
      "[0.81450369]\n"
     ]
    },
    {
     "name": "stderr",
     "output_type": "stream",
     "text": [
      " 27%|██████████████▊                                         | 22/83 [24:25<1:10:18, 69.15s/it]"
     ]
    },
    {
     "name": "stdout",
     "output_type": "stream",
     "text": [
      "[0.87160853]\n"
     ]
    },
    {
     "name": "stderr",
     "output_type": "stream",
     "text": [
      " 28%|███████████████▌                                        | 23/83 [25:13<1:02:44, 62.75s/it]"
     ]
    },
    {
     "name": "stdout",
     "output_type": "stream",
     "text": [
      "[0.87842368]\n"
     ]
    },
    {
     "name": "stderr",
     "output_type": "stream",
     "text": [
      " 29%|████████████████▊                                         | 24/83 [26:01<57:14, 58.22s/it]"
     ]
    },
    {
     "name": "stdout",
     "output_type": "stream",
     "text": [
      "[0.87567628]\n"
     ]
    },
    {
     "name": "stderr",
     "output_type": "stream",
     "text": [
      " 30%|█████████████████▍                                        | 25/83 [26:55<55:08, 57.03s/it]"
     ]
    },
    {
     "name": "stdout",
     "output_type": "stream",
     "text": [
      "[0.88314008]\n"
     ]
    },
    {
     "name": "stderr",
     "output_type": "stream",
     "text": [
      " 31%|██████████████████▏                                       | 26/83 [27:49<53:25, 56.24s/it]"
     ]
    },
    {
     "name": "stdout",
     "output_type": "stream",
     "text": [
      "[0.86746882]\n"
     ]
    },
    {
     "name": "stderr",
     "output_type": "stream",
     "text": [
      " 33%|██████████████████▊                                       | 27/83 [28:51<54:03, 57.92s/it]"
     ]
    },
    {
     "name": "stdout",
     "output_type": "stream",
     "text": [
      "[0.86925023]\n"
     ]
    },
    {
     "name": "stderr",
     "output_type": "stream",
     "text": [
      " 34%|███████████████████▌                                      | 28/83 [29:53<54:10, 59.10s/it]"
     ]
    },
    {
     "name": "stdout",
     "output_type": "stream",
     "text": [
      "[0.8793512]\n"
     ]
    },
    {
     "name": "stderr",
     "output_type": "stream",
     "text": [
      " 35%|████████████████████▎                                     | 29/83 [30:16<43:27, 48.29s/it]"
     ]
    },
    {
     "name": "stdout",
     "output_type": "stream",
     "text": [
      "[0.89089225]\n"
     ]
    },
    {
     "name": "stderr",
     "output_type": "stream",
     "text": [
      " 36%|████████████████████▉                                     | 30/83 [30:39<35:56, 40.70s/it]"
     ]
    },
    {
     "name": "stdout",
     "output_type": "stream",
     "text": [
      "[0.89229496]\n"
     ]
    },
    {
     "name": "stderr",
     "output_type": "stream",
     "text": [
      " 37%|█████████████████████▋                                    | 31/83 [31:02<30:39, 35.38s/it]"
     ]
    },
    {
     "name": "stdout",
     "output_type": "stream",
     "text": [
      "[0.8921879]\n"
     ]
    },
    {
     "name": "stderr",
     "output_type": "stream",
     "text": [
      " 39%|██████████████████████▎                                   | 32/83 [31:23<26:22, 31.03s/it]"
     ]
    },
    {
     "name": "stdout",
     "output_type": "stream",
     "text": [
      "[0.39572772]\n"
     ]
    },
    {
     "name": "stderr",
     "output_type": "stream",
     "text": [
      " 40%|███████████████████████                                   | 33/83 [31:44<23:20, 28.01s/it]"
     ]
    },
    {
     "name": "stdout",
     "output_type": "stream",
     "text": [
      "[0.54104791]\n"
     ]
    },
    {
     "name": "stderr",
     "output_type": "stream",
     "text": [
      " 41%|███████████████████████▊                                  | 34/83 [32:07<21:38, 26.50s/it]"
     ]
    },
    {
     "name": "stdout",
     "output_type": "stream",
     "text": [
      "[0.89314464]\n"
     ]
    },
    {
     "name": "stderr",
     "output_type": "stream",
     "text": [
      " 42%|████████████████████████▍                                 | 35/83 [32:28<19:54, 24.88s/it]"
     ]
    },
    {
     "name": "stdout",
     "output_type": "stream",
     "text": [
      "[0.40926155]\n"
     ]
    },
    {
     "name": "stderr",
     "output_type": "stream",
     "text": [
      " 43%|█████████████████████████▏                                | 36/83 [32:49<18:32, 23.67s/it]"
     ]
    },
    {
     "name": "stdout",
     "output_type": "stream",
     "text": [
      "[0.50712171]\n"
     ]
    },
    {
     "name": "stderr",
     "output_type": "stream",
     "text": [
      " 45%|█████████████████████████▊                                | 37/83 [33:12<17:59, 23.47s/it]"
     ]
    },
    {
     "name": "stdout",
     "output_type": "stream",
     "text": [
      "[0.89575409]\n"
     ]
    },
    {
     "name": "stderr",
     "output_type": "stream",
     "text": [
      " 46%|██████████████████████████▌                               | 38/83 [33:35<17:31, 23.38s/it]"
     ]
    },
    {
     "name": "stdout",
     "output_type": "stream",
     "text": [
      "[0.63617249]\n"
     ]
    },
    {
     "name": "stderr",
     "output_type": "stream",
     "text": [
      " 47%|███████████████████████████▎                              | 39/83 [33:58<17:05, 23.30s/it]"
     ]
    },
    {
     "name": "stdout",
     "output_type": "stream",
     "text": [
      "[0.73345361]\n"
     ]
    },
    {
     "name": "stderr",
     "output_type": "stream",
     "text": [
      " 48%|███████████████████████████▉                              | 40/83 [34:21<16:38, 23.22s/it]"
     ]
    },
    {
     "name": "stdout",
     "output_type": "stream",
     "text": [
      "[0.8893716]\n"
     ]
    },
    {
     "name": "stderr",
     "output_type": "stream",
     "text": [
      " 49%|████████████████████████████▋                             | 41/83 [34:46<16:31, 23.62s/it]"
     ]
    },
    {
     "name": "stdout",
     "output_type": "stream",
     "text": [
      "[0.89056113]\n"
     ]
    },
    {
     "name": "stderr",
     "output_type": "stream",
     "text": [
      " 51%|█████████████████████████████▎                            | 42/83 [35:10<16:19, 23.89s/it]"
     ]
    },
    {
     "name": "stdout",
     "output_type": "stream",
     "text": [
      "[0.88821821]\n"
     ]
    },
    {
     "name": "stderr",
     "output_type": "stream",
     "text": [
      " 52%|██████████████████████████████                            | 43/83 [35:35<16:02, 24.06s/it]"
     ]
    },
    {
     "name": "stdout",
     "output_type": "stream",
     "text": [
      "[0.89142408]\n"
     ]
    },
    {
     "name": "stderr",
     "output_type": "stream",
     "text": [
      " 53%|██████████████████████████████▋                           | 44/83 [35:59<15:43, 24.19s/it]"
     ]
    },
    {
     "name": "stdout",
     "output_type": "stream",
     "text": [
      "[0.87622799]\n"
     ]
    },
    {
     "name": "stderr",
     "output_type": "stream",
     "text": [
      " 54%|███████████████████████████████▍                          | 45/83 [36:24<15:22, 24.26s/it]"
     ]
    },
    {
     "name": "stdout",
     "output_type": "stream",
     "text": [
      "[0.89132111]\n"
     ]
    },
    {
     "name": "stderr",
     "output_type": "stream",
     "text": [
      " 55%|████████████████████████████████▏                         | 46/83 [36:48<15:01, 24.35s/it]"
     ]
    },
    {
     "name": "stdout",
     "output_type": "stream",
     "text": [
      "[0.8568249]\n"
     ]
    },
    {
     "name": "stderr",
     "output_type": "stream",
     "text": [
      " 57%|████████████████████████████████▊                         | 47/83 [37:12<14:36, 24.34s/it]"
     ]
    },
    {
     "name": "stdout",
     "output_type": "stream",
     "text": [
      "[0.88956575]\n"
     ]
    },
    {
     "name": "stderr",
     "output_type": "stream",
     "text": [
      " 58%|█████████████████████████████████▌                        | 48/83 [37:37<14:12, 24.36s/it]"
     ]
    },
    {
     "name": "stdout",
     "output_type": "stream",
     "text": [
      "[0.88964789]\n"
     ]
    },
    {
     "name": "stderr",
     "output_type": "stream",
     "text": [
      " 59%|██████████████████████████████████▏                       | 49/83 [38:01<13:47, 24.35s/it]"
     ]
    },
    {
     "name": "stdout",
     "output_type": "stream",
     "text": [
      "[0.88961992]\n"
     ]
    },
    {
     "name": "stderr",
     "output_type": "stream",
     "text": [
      " 60%|██████████████████████████████████▉                       | 50/83 [38:26<13:24, 24.36s/it]"
     ]
    },
    {
     "name": "stdout",
     "output_type": "stream",
     "text": [
      "[0.88959435]\n"
     ]
    },
    {
     "name": "stderr",
     "output_type": "stream",
     "text": [
      " 61%|███████████████████████████████████▋                      | 51/83 [38:50<13:00, 24.38s/it]"
     ]
    },
    {
     "name": "stdout",
     "output_type": "stream",
     "text": [
      "[0.88973799]\n"
     ]
    },
    {
     "name": "stderr",
     "output_type": "stream",
     "text": [
      " 63%|████████████████████████████████████▎                     | 52/83 [39:14<12:35, 24.38s/it]"
     ]
    },
    {
     "name": "stdout",
     "output_type": "stream",
     "text": [
      "[0.88964209]\n"
     ]
    },
    {
     "name": "stderr",
     "output_type": "stream",
     "text": [
      " 64%|█████████████████████████████████████                     | 53/83 [39:37<11:59, 23.97s/it]"
     ]
    },
    {
     "name": "stdout",
     "output_type": "stream",
     "text": [
      "[0.88944321]\n"
     ]
    },
    {
     "name": "stderr",
     "output_type": "stream",
     "text": [
      " 65%|█████████████████████████████████████▋                    | 54/83 [40:01<11:28, 23.73s/it]"
     ]
    },
    {
     "name": "stdout",
     "output_type": "stream",
     "text": [
      "[0.88980968]\n"
     ]
    },
    {
     "name": "stderr",
     "output_type": "stream",
     "text": [
      " 66%|██████████████████████████████████████▍                   | 55/83 [40:24<10:59, 23.54s/it]"
     ]
    },
    {
     "name": "stdout",
     "output_type": "stream",
     "text": [
      "[0.88882364]\n"
     ]
    },
    {
     "name": "stderr",
     "output_type": "stream",
     "text": [
      " 67%|███████████████████████████████████████▏                  | 56/83 [40:47<10:31, 23.37s/it]"
     ]
    },
    {
     "name": "stdout",
     "output_type": "stream",
     "text": [
      "[0.89013199]\n"
     ]
    },
    {
     "name": "stderr",
     "output_type": "stream",
     "text": [
      " 69%|███████████████████████████████████████▊                  | 57/83 [41:10<10:06, 23.34s/it]"
     ]
    },
    {
     "name": "stdout",
     "output_type": "stream",
     "text": [
      "[0.88834082]\n"
     ]
    },
    {
     "name": "stderr",
     "output_type": "stream",
     "text": [
      " 70%|████████████████████████████████████████▌                 | 58/83 [41:33<09:41, 23.24s/it]"
     ]
    },
    {
     "name": "stdout",
     "output_type": "stream",
     "text": [
      "[0.89048097]\n"
     ]
    },
    {
     "name": "stderr",
     "output_type": "stream",
     "text": [
      " 71%|█████████████████████████████████████████▏                | 59/83 [41:56<09:16, 23.18s/it]"
     ]
    },
    {
     "name": "stdout",
     "output_type": "stream",
     "text": [
      "[0.88962719]\n"
     ]
    },
    {
     "name": "stderr",
     "output_type": "stream",
     "text": [
      " 72%|█████████████████████████████████████████▉                | 60/83 [42:19<08:52, 23.15s/it]"
     ]
    },
    {
     "name": "stdout",
     "output_type": "stream",
     "text": [
      "[0.88962719]\n"
     ]
    },
    {
     "name": "stderr",
     "output_type": "stream",
     "text": [
      " 73%|██████████████████████████████████████████▋               | 61/83 [42:42<08:28, 23.11s/it]"
     ]
    },
    {
     "name": "stdout",
     "output_type": "stream",
     "text": [
      "[0.88962719]\n"
     ]
    },
    {
     "name": "stderr",
     "output_type": "stream",
     "text": [
      " 75%|███████████████████████████████████████████▎              | 62/83 [43:05<08:05, 23.11s/it]"
     ]
    },
    {
     "name": "stdout",
     "output_type": "stream",
     "text": [
      "[0.88962719]\n"
     ]
    },
    {
     "name": "stderr",
     "output_type": "stream",
     "text": [
      " 76%|████████████████████████████████████████████              | 63/83 [43:28<07:41, 23.08s/it]"
     ]
    },
    {
     "name": "stdout",
     "output_type": "stream",
     "text": [
      "[0.88962719]\n"
     ]
    },
    {
     "name": "stderr",
     "output_type": "stream",
     "text": [
      " 77%|████████████████████████████████████████████▋             | 64/83 [43:51<07:18, 23.06s/it]"
     ]
    },
    {
     "name": "stdout",
     "output_type": "stream",
     "text": [
      "[0.88962719]\n"
     ]
    },
    {
     "name": "stderr",
     "output_type": "stream",
     "text": [
      " 78%|█████████████████████████████████████████████▍            | 65/83 [44:14<06:55, 23.08s/it]"
     ]
    },
    {
     "name": "stdout",
     "output_type": "stream",
     "text": [
      "[0.89050361]\n"
     ]
    },
    {
     "name": "stderr",
     "output_type": "stream",
     "text": [
      " 80%|██████████████████████████████████████████████            | 66/83 [44:37<06:32, 23.07s/it]"
     ]
    },
    {
     "name": "stdout",
     "output_type": "stream",
     "text": [
      "[0.88978263]\n"
     ]
    },
    {
     "name": "stderr",
     "output_type": "stream",
     "text": [
      " 81%|██████████████████████████████████████████████▊           | 67/83 [45:00<06:08, 23.05s/it]"
     ]
    },
    {
     "name": "stdout",
     "output_type": "stream",
     "text": [
      "[0.89114039]\n"
     ]
    },
    {
     "name": "stderr",
     "output_type": "stream",
     "text": [
      " 82%|███████████████████████████████████████████████▌          | 68/83 [45:23<05:46, 23.08s/it]"
     ]
    },
    {
     "name": "stdout",
     "output_type": "stream",
     "text": [
      "[0.88975666]\n"
     ]
    },
    {
     "name": "stderr",
     "output_type": "stream",
     "text": [
      " 83%|████████████████████████████████████████████████▏         | 69/83 [45:47<05:23, 23.08s/it]"
     ]
    },
    {
     "name": "stdout",
     "output_type": "stream",
     "text": [
      "[0.89045912]\n"
     ]
    },
    {
     "name": "stderr",
     "output_type": "stream",
     "text": [
      " 84%|████████████████████████████████████████████████▉         | 70/83 [46:10<05:00, 23.09s/it]"
     ]
    },
    {
     "name": "stdout",
     "output_type": "stream",
     "text": [
      "[0.88971268]\n"
     ]
    },
    {
     "name": "stderr",
     "output_type": "stream",
     "text": [
      " 86%|█████████████████████████████████████████████████▌        | 71/83 [46:33<04:38, 23.19s/it]"
     ]
    },
    {
     "name": "stdout",
     "output_type": "stream",
     "text": [
      "[0.88963546]\n"
     ]
    },
    {
     "name": "stderr",
     "output_type": "stream",
     "text": [
      " 87%|██████████████████████████████████████████████████▎       | 72/83 [46:57<04:16, 23.34s/it]"
     ]
    },
    {
     "name": "stdout",
     "output_type": "stream",
     "text": [
      "[0.88524309]\n"
     ]
    },
    {
     "name": "stderr",
     "output_type": "stream",
     "text": [
      " 88%|███████████████████████████████████████████████████       | 73/83 [47:20<03:53, 23.34s/it]"
     ]
    },
    {
     "name": "stdout",
     "output_type": "stream",
     "text": [
      "[0.87554274]\n"
     ]
    },
    {
     "name": "stderr",
     "output_type": "stream",
     "text": [
      " 89%|███████████████████████████████████████████████████▋      | 74/83 [47:44<03:32, 23.60s/it]"
     ]
    },
    {
     "name": "stdout",
     "output_type": "stream",
     "text": [
      "[0.86187076]\n"
     ]
    },
    {
     "name": "stderr",
     "output_type": "stream",
     "text": [
      " 90%|████████████████████████████████████████████████████▍     | 75/83 [48:08<03:10, 23.75s/it]"
     ]
    },
    {
     "name": "stdout",
     "output_type": "stream",
     "text": [
      "[0.87824475]\n"
     ]
    },
    {
     "name": "stderr",
     "output_type": "stream",
     "text": [
      " 92%|█████████████████████████████████████████████████████     | 76/83 [48:32<02:46, 23.83s/it]"
     ]
    },
    {
     "name": "stdout",
     "output_type": "stream",
     "text": [
      "[0.8428457]\n"
     ]
    },
    {
     "name": "stderr",
     "output_type": "stream",
     "text": [
      " 93%|█████████████████████████████████████████████████████▊    | 77/83 [48:57<02:24, 24.09s/it]"
     ]
    },
    {
     "name": "stdout",
     "output_type": "stream",
     "text": [
      "[0.88952569]\n"
     ]
    },
    {
     "name": "stderr",
     "output_type": "stream",
     "text": [
      " 94%|██████████████████████████████████████████████████████▌   | 78/83 [49:21<02:00, 24.14s/it]"
     ]
    },
    {
     "name": "stdout",
     "output_type": "stream",
     "text": [
      "[0.89025066]\n"
     ]
    },
    {
     "name": "stderr",
     "output_type": "stream",
     "text": [
      " 95%|███████████████████████████████████████████████████████▏  | 79/83 [49:46<01:36, 24.21s/it]"
     ]
    },
    {
     "name": "stdout",
     "output_type": "stream",
     "text": [
      "[0.88963798]\n"
     ]
    },
    {
     "name": "stderr",
     "output_type": "stream",
     "text": [
      " 96%|███████████████████████████████████████████████████████▉  | 80/83 [50:10<01:12, 24.18s/it]"
     ]
    },
    {
     "name": "stdout",
     "output_type": "stream",
     "text": [
      "[0.88827148]\n"
     ]
    },
    {
     "name": "stderr",
     "output_type": "stream",
     "text": [
      " 98%|████████████████████████████████████████████████████████▌ | 81/83 [50:34<00:48, 24.05s/it]"
     ]
    },
    {
     "name": "stdout",
     "output_type": "stream",
     "text": [
      "[0.88974204]\n"
     ]
    },
    {
     "name": "stderr",
     "output_type": "stream",
     "text": [
      " 99%|█████████████████████████████████████████████████████████▎| 82/83 [50:57<00:23, 23.97s/it]"
     ]
    },
    {
     "name": "stdout",
     "output_type": "stream",
     "text": [
      "[0.88408242]\n"
     ]
    },
    {
     "name": "stderr",
     "output_type": "stream",
     "text": [
      "100%|██████████████████████████████████████████████████████████| 83/83 [51:20<00:00, 37.12s/it]"
     ]
    },
    {
     "name": "stdout",
     "output_type": "stream",
     "text": [
      "[0.89486453]\n"
     ]
    },
    {
     "name": "stderr",
     "output_type": "stream",
     "text": [
      "\n"
     ]
    }
   ],
   "source": [
    "## test condition x 83\n",
    "DatafileValFoldts = prostatetestpath\n",
    "for k in tqdm(range(1,84)):\n",
    "    savename = 'prostatetestsyn_' + str(k) \n",
    "    testlist = [k]\n",
    "    args = {'resume': savedckpt, 'name': savename, 'saveresults': True, 'patch_size': patch_size, 'downsampling': 4,\n",
    "       'ttalist': testlist, 'ttalistprob': testprob, 'features': 30, 'deepsupervision': True, 'gpu': 1}\n",
    "    testmap(model, args['saveresults'], args['name'] + '/results/', pathname=pathname,\n",
    "                    ImgsegmentSize=args['patch_size'], deepsupervision=args['deepsupervision'],\n",
    "                    DatafileValFoldtr=DatafileValFoldtr, DatafileValFoldts=DatafileValFoldts, NumsClass=NumsClass,\n",
    "                    ttalist=args['ttalist'], ttalistprob=args['ttalistprob'])"
   ]
  },
  {
   "cell_type": "code",
   "execution_count": 13,
   "metadata": {},
   "outputs": [
    {
     "name": "stderr",
     "output_type": "stream",
     "text": [
      " 20%|████████████                                                | 1/5 [00:43<02:52, 43.04s/it]"
     ]
    },
    {
     "name": "stdout",
     "output_type": "stream",
     "text": [
      "[0.79567855]\n"
     ]
    },
    {
     "name": "stderr",
     "output_type": "stream",
     "text": [
      " 40%|████████████████████████                                    | 2/5 [01:41<02:35, 51.90s/it]"
     ]
    },
    {
     "name": "stdout",
     "output_type": "stream",
     "text": [
      "[0.84748382]\n"
     ]
    },
    {
     "name": "stderr",
     "output_type": "stream",
     "text": [
      " 60%|████████████████████████████████████                        | 3/5 [03:07<02:15, 67.63s/it]"
     ]
    },
    {
     "name": "stdout",
     "output_type": "stream",
     "text": [
      "[0.64491182]\n"
     ]
    },
    {
     "name": "stderr",
     "output_type": "stream",
     "text": [
      " 80%|████████████████████████████████████████████████            | 4/5 [05:02<01:26, 86.38s/it]"
     ]
    },
    {
     "name": "stdout",
     "output_type": "stream",
     "text": [
      "[0.81427417]\n"
     ]
    },
    {
     "name": "stderr",
     "output_type": "stream",
     "text": [
      "100%|████████████████████████████████████████████████████████████| 5/5 [06:02<00:00, 72.41s/it]"
     ]
    },
    {
     "name": "stdout",
     "output_type": "stream",
     "text": [
      "[0.84138172]\n"
     ]
    },
    {
     "name": "stderr",
     "output_type": "stream",
     "text": [
      "\n"
     ]
    }
   ],
   "source": [
    "# test on 5 other domains\n",
    "testlist = [0]\n",
    "for prostatetestpath in tqdm(prostatetestpaths):\n",
    "    DatafileValFoldts = prostatetestpath\n",
    "    savename = 'prostatetest_' + prostatetestpath.split('/')[-2]\n",
    "    args = {'resume': savedckpt, 'name': savename, 'saveresults': True, 'patch_size': patch_size, 'downsampling': 4,\n",
    "       'ttalist': testlist, 'ttalistprob': testprob, 'features': 30, 'deepsupervision': True, 'gpu': 1}\n",
    "    testmap(model, args['saveresults'], args['name'] + '/results/', pathname=pathname,\n",
    "                    ImgsegmentSize=args['patch_size'], deepsupervision=args['deepsupervision'],\n",
    "                    DatafileValFoldtr=DatafileValFoldtr, DatafileValFoldts=DatafileValFoldts, NumsClass=NumsClass,\n",
    "                    ttalist=args['ttalist'], ttalistprob=args['ttalistprob'])\n"
   ]
  },
  {
   "cell_type": "markdown",
   "metadata": {},
   "source": [
    "# Cardiac"
   ]
  },
  {
   "cell_type": "code",
   "execution_count": null,
   "metadata": {},
   "outputs": [],
   "source": [
    "savename = 'cardiacval'\n",
    "savedckpt = cardiacckpt\n",
    "patch_size = [128 128 8]\n",
    "testlist = [0]\n",
    "testprob = [1]\n",
    "NumsInputChannel = 1\n",
    "NumsClass = 4\n",
    "pathname = 'cardiac'\n",
    "DatafileValFoldtr = None\n",
    "DatafileValFoldts = cardiacvalpath\n",
    "#\n",
    "args = {'resume': savedckpt, 'name': savename, 'saveresults': True, 'patch_size': patch_size, 'downsampling': 4,\n",
    "       'ttalist': testlist, 'ttalistprob': testprob, 'features': 30, 'deepsupervision': True, 'gpu': 0}"
   ]
  },
  {
   "cell_type": "code",
   "execution_count": null,
   "metadata": {},
   "outputs": [],
   "source": [
    "# create model\n",
    "conv_op = nn.Conv3d\n",
    "dropout_op = nn.Dropout3d\n",
    "norm_op = nn.InstanceNorm3d\n",
    "conv_per_stage = 2\n",
    "base_num_features = args['features']\n",
    "args['features'] = base_num_features\n",
    "\n",
    "norm_op_kwargs = {'eps': 1e-5, 'affine': True}\n",
    "dropout_op_kwargs = {'p': 0, 'inplace': True}\n",
    "net_nonlin = nn.LeakyReLU\n",
    "net_nonlin_kwargs = {'negative_slope': 1e-2, 'inplace': True}\n",
    "net_num_pool_op_kernel_sizes = []\n",
    "for kiter in range(0, args['downsampling']):  # (0,5)\n",
    "    net_num_pool_op_kernel_sizes.append([2, 2, 1])\n",
    "net_conv_kernel_sizes = []\n",
    "for kiter in range(0, args['downsampling'] + 1):  # (0,6)\n",
    "    net_conv_kernel_sizes.append([3, 3, 3])\n",
    "\n",
    "model = Generic_UNet(NumsInputChannel, base_num_features, NumsClass,\n",
    "                     len(net_num_pool_op_kernel_sizes),\n",
    "                     conv_per_stage, 2, conv_op, norm_op, norm_op_kwargs, dropout_op,\n",
    "                     dropout_op_kwargs,\n",
    "                     net_nonlin, net_nonlin_kwargs, args['deepsupervision'], False, lambda x: x, InitWeights_He(1e-2),\n",
    "                     net_num_pool_op_kernel_sizes, net_conv_kernel_sizes, False, True, True)\n",
    "model = model.cuda()\n",
    "model.eval()"
   ]
  },
  {
   "cell_type": "code",
   "execution_count": null,
   "metadata": {},
   "outputs": [],
   "source": [
    "torch.cuda.set_device(args['gpu'])\n",
    "if args['resume']:\n",
    "    if os.path.isfile(args['resume']):\n",
    "        print(\"=> loading checkpoint '{}'\".format(args['resume']))\n",
    "        checkpoint = torch.load(args['resume'], map_location='cuda:' + str(args['gpu']))\n",
    "        model.load_state_dict(checkpoint['state_dict'])\n",
    "        print(\"=> loaded checkpoint '{}' (epoch {})\".format(args['resume'], checkpoint['epoch']))\n",
    "    else:\n",
    "        print(\"=> no checkpoint found at '{}'\".format(args['resume']))"
   ]
  },
  {
   "cell_type": "code",
   "execution_count": null,
   "metadata": {},
   "outputs": [],
   "source": [
    "testmap(model, args['saveresults'], args['name'] + '/results/', pathname=pathname,\n",
    "                    ImgsegmentSize=args['patch_size'], deepsupervision=args['deepsupervision'],\n",
    "                    DatafileValFoldtr=DatafileValFoldtr, DatafileValFoldts=DatafileValFoldts, NumsClass=NumsClass,\n",
    "                    ttalist=args['ttalist'], ttalistprob=args['ttalistprob'])"
   ]
  },
  {
   "cell_type": "code",
   "execution_count": null,
   "metadata": {},
   "outputs": [],
   "source": [
    "## test condition x 83\n",
    "DatafileValFoldts = cardiactestpath\n",
    "for k in tqdm(range(1,84)):\n",
    "    savename = 'cardiactestsyn_' + str(k) \n",
    "    testlist = [k]\n",
    "    args = {'resume': savedckpt, 'name': savename, 'saveresults': True, 'patch_size': patch_size, 'downsampling': 4,\n",
    "       'ttalist': testlist, 'ttalistprob': testprob, 'features': 30, 'deepsupervision': True, 'gpu': 1}\n",
    "    testmap(model, args['saveresults'], args['name'] + '/results/', pathname=pathname,\n",
    "                    ImgsegmentSize=args['patch_size'], deepsupervision=args['deepsupervision'],\n",
    "                    DatafileValFoldtr=DatafileValFoldtr, DatafileValFoldts=DatafileValFoldts, NumsClass=NumsClass,\n",
    "                    ttalist=args['ttalist'], ttalistprob=args['ttalistprob'])"
   ]
  },
  {
   "cell_type": "code",
   "execution_count": null,
   "metadata": {},
   "outputs": [],
   "source": [
    "# test on 4 other domains\n",
    "testlist = [0]\n",
    "for cardiactestpath in tqdm(cardiactestpaths):\n",
    "    DatafileValFoldts = cardiactestpath\n",
    "    savename = 'cardiactest_' + cardiactestpath.split('/')[-2]\n",
    "    args = {'resume': savedckpt, 'name': savename, 'saveresults': True, 'patch_size': patch_size, 'downsampling': 4,\n",
    "       'ttalist': testlist, 'ttalistprob': testprob, 'features': 30, 'deepsupervision': True, 'gpu': 1}\n",
    "    testmap(model, args['saveresults'], args['name'] + '/results/', pathname=pathname,\n",
    "                    ImgsegmentSize=args['patch_size'], deepsupervision=args['deepsupervision'],\n",
    "                    DatafileValFoldtr=DatafileValFoldtr, DatafileValFoldts=DatafileValFoldts, NumsClass=NumsClass,\n",
    "                    ttalist=args['ttalist'], ttalistprob=args['ttalistprob'])\n"
   ]
  },
  {
   "cell_type": "markdown",
   "metadata": {},
   "source": [
    "# ATLAS"
   ]
  },
  {
   "cell_type": "code",
   "execution_count": 226,
   "metadata": {},
   "outputs": [],
   "source": [
    "savename = 'atlasval'\n",
    "savedckpt = atlasckpt\n",
    "patch_size = [128 128 128]\n",
    "testlist = [0]\n",
    "testprob = [1]\n",
    "NumsInputChannel = 1\n",
    "NumsClass = 2\n",
    "pathname = 'atlas'\n",
    "DatafileValFoldtr = None\n",
    "DatafileValFoldts = atlasvalpath\n",
    "#\n",
    "args = {'resume': savedckpt, 'name': savename, 'saveresults': True, 'patch_size': patch_size, 'downsampling': 4,\n",
    "       'ttalist': testlist, 'ttalistprob': testprob, 'features': 10, 'deepsupervision': True, 'gpu': 0}"
   ]
  },
  {
   "cell_type": "code",
   "execution_count": null,
   "metadata": {},
   "outputs": [],
   "source": [
    "torch.cuda.set_device(args['gpu'])\n",
    "# create model\n",
    "conv_op = nn.Conv3d\n",
    "dropout_op = nn.Dropout3d\n",
    "norm_op = nn.InstanceNorm3d\n",
    "conv_per_stage = 2\n",
    "base_num_features = args['features']\n",
    "args['features'] = base_num_features\n",
    "\n",
    "norm_op_kwargs = {'eps': 1e-5, 'affine': True}\n",
    "dropout_op_kwargs = {'p': 0, 'inplace': True}\n",
    "net_nonlin = nn.LeakyReLU\n",
    "net_nonlin_kwargs = {'negative_slope': 1e-2, 'inplace': True}\n",
    "net_num_pool_op_kernel_sizes = []\n",
    "for kiter in range(0, args['downsampling']):  # (0,5)\n",
    "    net_num_pool_op_kernel_sizes.append([2, 2, 2])\n",
    "net_conv_kernel_sizes = []\n",
    "for kiter in range(0, args['downsampling'] + 1):  # (0,6)\n",
    "    net_conv_kernel_sizes.append([3, 3, 3])\n",
    "\n",
    "model = Generic_UNet(NumsInputChannel, base_num_features, NumsClass,\n",
    "                     len(net_num_pool_op_kernel_sizes),\n",
    "                     conv_per_stage, 2, conv_op, norm_op, norm_op_kwargs, dropout_op,\n",
    "                     dropout_op_kwargs,\n",
    "                     net_nonlin, net_nonlin_kwargs, args['deepsupervision'], False, lambda x: x, InitWeights_He(1e-2),\n",
    "                     net_num_pool_op_kernel_sizes, net_conv_kernel_sizes, False, True, True)\n",
    "model = model.cuda()\n",
    "model.eval()\n",
    "\n",
    "if args['resume']:\n",
    "    if os.path.isfile(args['resume']):\n",
    "        print(\"=> loading checkpoint '{}'\".format(args['resume']))\n",
    "        checkpoint = torch.load(args['resume'], map_location='cuda:' + str(args['gpu']))\n",
    "        model.load_state_dict(checkpoint['state_dict'])\n",
    "        print(\"=> loaded checkpoint '{}' (epoch {})\".format(args['resume'], checkpoint['epoch']))\n",
    "    else:\n",
    "        print(\"=> no checkpoint found at '{}'\".format(args['resume']))"
   ]
  },
  {
   "cell_type": "code",
   "execution_count": 228,
   "metadata": {},
   "outputs": [
    {
     "name": "stderr",
     "output_type": "stream",
     "text": [
      "  1%|▏              | 1/83 [19:47<27:03:20, 1187.81s/it]"
     ]
    },
    {
     "name": "stdout",
     "output_type": "stream",
     "text": [
      "[0.53707991]\n"
     ]
    },
    {
     "name": "stderr",
     "output_type": "stream",
     "text": [
      "\r\n",
      "  2%|▎              | 2/83 [40:08<27:09:41, 1207.18s/it]"
     ]
    },
    {
     "name": "stdout",
     "output_type": "stream",
     "text": [
      "[0.55419041]\n"
     ]
    },
    {
     "name": "stderr",
     "output_type": "stream",
     "text": [
      "\r\n",
      "  4%|▍            | 3/83 [1:02:29<28:11:00, 1268.25s/it]"
     ]
    },
    {
     "name": "stdout",
     "output_type": "stream",
     "text": [
      "[0.56657292]\n"
     ]
    },
    {
     "name": "stderr",
     "output_type": "stream",
     "text": [
      "  4%|▍            | 3/83 [1:16:56<34:11:51, 1538.90s/it]\n"
     ]
    },
    {
     "ename": "KeyboardInterrupt",
     "evalue": "",
     "output_type": "error",
     "traceback": [
      "\u001b[0;31m---------------------------------------------------------------------------\u001b[0m",
      "\u001b[0;31mKeyboardInterrupt\u001b[0m                         Traceback (most recent call last)",
      "\u001b[0;32m/tmp/ipykernel_11586/3146247203.py\u001b[0m in \u001b[0;36m<module>\u001b[0;34m\u001b[0m\n\u001b[1;32m      5\u001b[0m     args = {'resume': savedckpt, 'name': savename, 'saveresults': True, 'patch_size': patch_size, 'downsampling': 4,\n\u001b[1;32m      6\u001b[0m        'ttalist': testlist, 'ttalistprob': testprob, 'features': 10, 'deepsupervision': True, 'gpu': 1}\n\u001b[0;32m----> 7\u001b[0;31m     testmap(model, args['saveresults'], args['name'] + '/results/', pathname=pathname,\n\u001b[0m\u001b[1;32m      8\u001b[0m                     \u001b[0mImgsegmentSize\u001b[0m\u001b[0;34m=\u001b[0m\u001b[0margs\u001b[0m\u001b[0;34m[\u001b[0m\u001b[0;34m'patch_size'\u001b[0m\u001b[0;34m]\u001b[0m\u001b[0;34m,\u001b[0m \u001b[0mdeepsupervision\u001b[0m\u001b[0;34m=\u001b[0m\u001b[0margs\u001b[0m\u001b[0;34m[\u001b[0m\u001b[0;34m'deepsupervision'\u001b[0m\u001b[0;34m]\u001b[0m\u001b[0;34m,\u001b[0m\u001b[0;34m\u001b[0m\u001b[0;34m\u001b[0m\u001b[0m\n\u001b[1;32m      9\u001b[0m                     \u001b[0mDatafileValFoldtr\u001b[0m\u001b[0;34m=\u001b[0m\u001b[0mDatafileValFoldtr\u001b[0m\u001b[0;34m,\u001b[0m \u001b[0mDatafileValFoldts\u001b[0m\u001b[0;34m=\u001b[0m\u001b[0mDatafileValFoldts\u001b[0m\u001b[0;34m,\u001b[0m \u001b[0mNumsClass\u001b[0m\u001b[0;34m=\u001b[0m\u001b[0mNumsClass\u001b[0m\u001b[0;34m,\u001b[0m\u001b[0;34m\u001b[0m\u001b[0;34m\u001b[0m\u001b[0m\n",
      "\u001b[0;32m/tmp/ipykernel_11586/138519745.py\u001b[0m in \u001b[0;36mtestmap\u001b[0;34m(model, saveresults, name, pathname, ImgsegmentSize, deepsupervision, DatafileValFoldtr, DatafileValFoldts, tta, ttalist, NumsClass, ttalistprob)\u001b[0m\n\u001b[1;32m     46\u001b[0m \u001b[0;34m\u001b[0m\u001b[0m\n\u001b[1;32m     47\u001b[0m         \u001b[0;32mfrom\u001b[0m \u001b[0mcommon_test_Unet\u001b[0m \u001b[0;32mimport\u001b[0m \u001b[0mtta_rolling\u001b[0m\u001b[0;34m\u001b[0m\u001b[0;34m\u001b[0m\u001b[0m\n\u001b[0;32m---> 48\u001b[0;31m         \u001b[0mhp_results\u001b[0m \u001b[0;34m=\u001b[0m \u001b[0mtta_rolling\u001b[0m\u001b[0;34m(\u001b[0m\u001b[0mmodel\u001b[0m\u001b[0;34m,\u001b[0m \u001b[0mchannels\u001b[0m\u001b[0;34m,\u001b[0m \u001b[0mbatch_size\u001b[0m\u001b[0;34m,\u001b[0m \u001b[0mImgsegmentSize\u001b[0m\u001b[0;34m,\u001b[0m \u001b[0mNumsInputChannel\u001b[0m\u001b[0;34m,\u001b[0m \u001b[0mNumsClass\u001b[0m\u001b[0;34m,\u001b[0m \u001b[0mtta\u001b[0m\u001b[0;34m,\u001b[0m \u001b[0mttalist\u001b[0m\u001b[0;34m,\u001b[0m \u001b[0mttalistprob\u001b[0m\u001b[0;34m,\u001b[0m \u001b[0mdeepsupervision\u001b[0m\u001b[0;34m)\u001b[0m\u001b[0;34m\u001b[0m\u001b[0;34m\u001b[0m\u001b[0m\n\u001b[0m\u001b[1;32m     49\u001b[0m \u001b[0;34m\u001b[0m\u001b[0m\n\u001b[1;32m     50\u001b[0m         \u001b[0;31m## use the mask to constratin the results\u001b[0m\u001b[0;34m\u001b[0m\u001b[0;34m\u001b[0m\u001b[0m\n",
      "\u001b[0;32m/vol/biomedic3/zl9518/ModelEvaluation/Segment/common_test_Unet.py\u001b[0m in \u001b[0;36mtta_rolling\u001b[0;34m(model, channels, batch_size, ImgsegmentSize, NumsInputChannel, NumsClass, tta, ttalist, ttalistprob, deepsupervision)\u001b[0m\n\u001b[1;32m   1768\u001b[0m \u001b[0;34m\u001b[0m\u001b[0m\n\u001b[1;32m   1769\u001b[0m             \u001b[0;31m## return the center? to get the right transform.\u001b[0m\u001b[0;34m\u001b[0m\u001b[0;34m\u001b[0m\u001b[0m\n\u001b[0;32m-> 1770\u001b[0;31m             (channels_augment, _, transf_mtx) = augment_imgs_of_case(channels.copy(), None,\n\u001b[0m\u001b[1;32m   1771\u001b[0m                                                             None, None, prmssel, new_patch_size_primary, rng)\n\u001b[1;32m   1772\u001b[0m             \u001b[0mtransf_mtx_inv\u001b[0m \u001b[0;34m=\u001b[0m \u001b[0minv\u001b[0m\u001b[0;34m(\u001b[0m\u001b[0mtransf_mtx\u001b[0m\u001b[0;34m)\u001b[0m\u001b[0;34m\u001b[0m\u001b[0;34m\u001b[0m\u001b[0m\n",
      "\u001b[0;32m/vol/biomedic3/zl9518/ModelEvaluation/Segment/augmentImagerng.py\u001b[0m in \u001b[0;36maugment_imgs_of_case\u001b[0;34m(channels, gt_lbls, roi_mask, wmaps_per_cat, prms, patch_size, rng, transf_mtx)\u001b[0m\n\u001b[1;32m     30\u001b[0m          \u001b[0mroi_mask\u001b[0m\u001b[0;34m,\u001b[0m\u001b[0;34m\u001b[0m\u001b[0;34m\u001b[0m\u001b[0m\n\u001b[1;32m     31\u001b[0m          \u001b[0mwmaps_per_cat\u001b[0m\u001b[0;34m,\u001b[0m\u001b[0;34m\u001b[0m\u001b[0;34m\u001b[0m\u001b[0m\n\u001b[0;32m---> 32\u001b[0;31m          \u001b[0mtransf_mtx\u001b[0m\u001b[0;34m)\u001b[0m \u001b[0;34m=\u001b[0m \u001b[0mrandom_affine_deformation\u001b[0m\u001b[0;34m(\u001b[0m\u001b[0mchannels\u001b[0m\u001b[0;34m,\u001b[0m\u001b[0;34m\u001b[0m\u001b[0;34m\u001b[0m\u001b[0m\n\u001b[0m\u001b[1;32m     33\u001b[0m                                                     \u001b[0mgt_lbls\u001b[0m\u001b[0;34m,\u001b[0m\u001b[0;34m\u001b[0m\u001b[0;34m\u001b[0m\u001b[0m\n\u001b[1;32m     34\u001b[0m                                                     \u001b[0mroi_mask\u001b[0m\u001b[0;34m,\u001b[0m\u001b[0;34m\u001b[0m\u001b[0;34m\u001b[0m\u001b[0m\n",
      "\u001b[0;32m/vol/biomedic3/zl9518/ModelEvaluation/Segment/augmentImagerng.py\u001b[0m in \u001b[0;36mrandom_affine_deformation\u001b[0;34m(channels, gt_lbls, roi_mask, wmaps_l, patch_size, rng, prms, transf_mtx)\u001b[0m\n\u001b[1;32m     53\u001b[0m     \u001b[0;32massert\u001b[0m \u001b[0mtransf_mtx\u001b[0m \u001b[0;32mis\u001b[0m \u001b[0;32mnot\u001b[0m \u001b[0;32mNone\u001b[0m\u001b[0;34m\u001b[0m\u001b[0;34m\u001b[0m\u001b[0m\n\u001b[1;32m     54\u001b[0m \u001b[0;34m\u001b[0m\u001b[0m\n\u001b[0;32m---> 55\u001b[0;31m     channels = augm(images_l=channels,\n\u001b[0m\u001b[1;32m     56\u001b[0m                     \u001b[0mtransf_mtx\u001b[0m\u001b[0;34m=\u001b[0m\u001b[0mtransf_mtx\u001b[0m\u001b[0;34m,\u001b[0m\u001b[0;34m\u001b[0m\u001b[0;34m\u001b[0m\u001b[0m\n\u001b[1;32m     57\u001b[0m                     \u001b[0minterp_orders\u001b[0m\u001b[0;34m=\u001b[0m\u001b[0mprms\u001b[0m\u001b[0;34m[\u001b[0m\u001b[0;34m'interp_order_imgs'\u001b[0m\u001b[0;34m]\u001b[0m\u001b[0;34m,\u001b[0m\u001b[0;34m\u001b[0m\u001b[0;34m\u001b[0m\u001b[0m\n",
      "\u001b[0;32m/vol/biomedic3/zl9518/ModelEvaluation/Segment/augmentImagerng.py\u001b[0m in \u001b[0;36m__call__\u001b[0;34m(self, images_l, transf_mtx, interp_orders, boundary_modes, patch_size, cval, imgchannels)\u001b[0m\n\u001b[1;32m    287\u001b[0m                 \u001b[0;32mpass\u001b[0m  \u001b[0;31m# Dont do anything. Let it be None.\u001b[0m\u001b[0;34m\u001b[0m\u001b[0;34m\u001b[0m\u001b[0m\n\u001b[1;32m    288\u001b[0m             \u001b[0;32melse\u001b[0m\u001b[0;34m:\u001b[0m\u001b[0;34m\u001b[0m\u001b[0;34m\u001b[0m\u001b[0m\n\u001b[0;32m--> 289\u001b[0;31m                 new_images[img_i] = self._apply_transformation(images_l[img_i],\n\u001b[0m\u001b[1;32m    290\u001b[0m                                                                 \u001b[0mcoords\u001b[0m\u001b[0;34m.\u001b[0m\u001b[0mcopy\u001b[0m\u001b[0;34m(\u001b[0m\u001b[0;34m)\u001b[0m\u001b[0;34m,\u001b[0m\u001b[0;34m\u001b[0m\u001b[0;34m\u001b[0m\u001b[0m\n\u001b[1;32m    291\u001b[0m                                                                 \u001b[0mint_order\u001b[0m\u001b[0;34m,\u001b[0m\u001b[0;34m\u001b[0m\u001b[0;34m\u001b[0m\u001b[0m\n",
      "\u001b[0;32m/vol/biomedic3/zl9518/ModelEvaluation/Segment/augmentImagerng.py\u001b[0m in \u001b[0;36m_apply_transformation\u001b[0;34m(self, image, coords, interp_order, boundary_mode, cval, imgchannels)\u001b[0m\n\u001b[1;32m    241\u001b[0m             \u001b[0;32mreturn\u001b[0m \u001b[0mresult\u001b[0m\u001b[0;34m\u001b[0m\u001b[0;34m\u001b[0m\u001b[0m\n\u001b[1;32m    242\u001b[0m         \u001b[0;32melse\u001b[0m\u001b[0;34m:\u001b[0m\u001b[0;34m\u001b[0m\u001b[0;34m\u001b[0m\u001b[0m\n\u001b[0;32m--> 243\u001b[0;31m             new_image = scipy.ndimage.map_coordinates(image.astype(float),\n\u001b[0m\u001b[1;32m    244\u001b[0m                                                     \u001b[0mcoords\u001b[0m\u001b[0;34m,\u001b[0m\u001b[0;34m\u001b[0m\u001b[0;34m\u001b[0m\u001b[0m\n\u001b[1;32m    245\u001b[0m                                                     \u001b[0morder\u001b[0m\u001b[0;34m=\u001b[0m\u001b[0minterp_order\u001b[0m\u001b[0;34m,\u001b[0m\u001b[0;34m\u001b[0m\u001b[0;34m\u001b[0m\u001b[0m\n",
      "\u001b[0;32m/vol/biomedic2/zl9518/anaconda3/envs/IW/lib/python3.9/site-packages/scipy/ndimage/interpolation.py\u001b[0m in \u001b[0;36mmap_coordinates\u001b[0;34m(input, coordinates, output, order, mode, cval, prefilter)\u001b[0m\n\u001b[1;32m    454\u001b[0m         \u001b[0mfiltered\u001b[0m \u001b[0;34m=\u001b[0m \u001b[0minput\u001b[0m\u001b[0;34m\u001b[0m\u001b[0;34m\u001b[0m\u001b[0m\n\u001b[1;32m    455\u001b[0m     \u001b[0mmode\u001b[0m \u001b[0;34m=\u001b[0m \u001b[0m_ni_support\u001b[0m\u001b[0;34m.\u001b[0m\u001b[0m_extend_mode_to_code\u001b[0m\u001b[0;34m(\u001b[0m\u001b[0mmode\u001b[0m\u001b[0;34m)\u001b[0m\u001b[0;34m\u001b[0m\u001b[0;34m\u001b[0m\u001b[0m\n\u001b[0;32m--> 456\u001b[0;31m     _nd_image.geometric_transform(filtered, None, coordinates, None, None,\n\u001b[0m\u001b[1;32m    457\u001b[0m                                   output, order, mode, cval, npad, None, None)\n\u001b[1;32m    458\u001b[0m     \u001b[0;32mreturn\u001b[0m \u001b[0moutput\u001b[0m\u001b[0;34m\u001b[0m\u001b[0;34m\u001b[0m\u001b[0m\n",
      "\u001b[0;31mKeyboardInterrupt\u001b[0m: "
     ]
    }
   ],
   "source": [
    "## test condition x 83\n",
    "for k in tqdm(range(1,84)):\n",
    "    savename = 'atlastestcondition_' + str(k) \n",
    "    testlist = [k]\n",
    "    args = {'resume': savedckpt, 'name': savename, 'saveresults': True, 'patch_size': patch_size, 'downsampling': 4,\n",
    "       'ttalist': testlist, 'ttalistprob': testprob, 'features': 10, 'deepsupervision': True, 'gpu': 1}\n",
    "    testmap(model, args['saveresults'], args['name'] + '/results/', pathname=pathname,\n",
    "                    ImgsegmentSize=args['patch_size'], deepsupervision=args['deepsupervision'],\n",
    "                    DatafileValFoldtr=DatafileValFoldtr, DatafileValFoldts=DatafileValFoldts, NumsClass=NumsClass,\n",
    "                    ttalist=args['ttalist'], ttalistprob=args['ttalistprob'])"
   ]
  },
  {
   "cell_type": "markdown",
   "metadata": {},
   "source": [
    "## ATLAS, ci_1"
   ]
  },
  {
   "cell_type": "code",
   "execution_count": null,
   "metadata": {},
   "outputs": [],
   "source": []
  },
  {
   "cell_type": "markdown",
   "metadata": {},
   "source": [
    "## ATLAS, ci_2"
   ]
  },
  {
   "cell_type": "code",
   "execution_count": null,
   "metadata": {},
   "outputs": [],
   "source": []
  },
  {
   "cell_type": "markdown",
   "metadata": {},
   "source": [
    "## ATLAS, rl_1"
   ]
  },
  {
   "cell_type": "code",
   "execution_count": null,
   "metadata": {},
   "outputs": [],
   "source": []
  },
  {
   "cell_type": "markdown",
   "metadata": {},
   "source": [
    "## ATLAS, rl_2"
   ]
  },
  {
   "cell_type": "code",
   "execution_count": null,
   "metadata": {},
   "outputs": [],
   "source": []
  },
  {
   "cell_type": "code",
   "execution_count": null,
   "metadata": {},
   "outputs": [],
   "source": []
  }
 ],
 "metadata": {
  "kernelspec": {
   "display_name": "robustseg",
   "language": "python",
   "name": "robustseg"
  },
  "language_info": {
   "codemirror_mode": {
    "name": "ipython",
    "version": 3
   },
   "file_extension": ".py",
   "mimetype": "text/x-python",
   "name": "python",
   "nbconvert_exporter": "python",
   "pygments_lexer": "ipython3",
   "version": "3.10.12"
  }
 },
 "nbformat": 4,
 "nbformat_minor": 4
}
